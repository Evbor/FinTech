{
 "cells": [
  {
   "cell_type": "markdown",
   "metadata": {},
   "source": [
    "#  Predicting Stock Yields using NLP"
   ]
  },
  {
   "cell_type": "markdown",
   "metadata": {},
   "source": [
    "Deep learning NLP techniques to map raw text to dense vector representations have had some surprising success in the world of computer natural language processing compared to classical means of encoding text. In this project we will attempt to leverage some of these techniques to help assist us in time series analysis on stock yields. The company we will choose to investigate is Intel (stock ticker: INTC), and the text data we will be leveraging are Intel's SEC forms. Specifically the 8-K form. The 8-K form was chosen because it tends to be the more text rich SEC document when compared to others."
   ]
  },
  {
   "cell_type": "code",
   "execution_count": 1,
   "metadata": {},
   "outputs": [],
   "source": [
    "# Setting notebook global variables\n",
    "\n",
    "import os\n",
    "import sys\n",
    "import numpy as np\n",
    "\n",
    "# Project Paths\n",
    "project_dir = os.path.split(os.getcwd())[0]\n",
    "path_to_data = os.path.join(project_dir, 'data')\n",
    "path_to_docs = os.path.join(path_to_data, 'documents')\n",
    "# Company Stock Ticker and CIK number\n",
    "ticker = 'INTC'\n",
    "CIK = '0000050863'"
   ]
  },
  {
   "cell_type": "markdown",
   "metadata": {},
   "source": [
    "## Fetching Data"
   ]
  },
  {
   "cell_type": "markdown",
   "metadata": {},
   "source": [
    "For this project we will need two data sources. Firstly we will need access to Intel's historical stock price data. We will use an API to access this data (since it will be much easier than webscraping it). This gives us two options: Quandl's end of day stock price data API, or Alphavantage's end of day stock price, adjusted time series API. Since Quandl's API costs money we will use Alphavantage's API since its free. The second data source we need is access to Intel's published 8-K forms. For this data source we will web scrape the SEC's database: EDGAR, to gather the necessary data."
   ]
  },
  {
   "cell_type": "markdown",
   "metadata": {},
   "source": [
    "### Fetching Stock Price Data"
   ]
  },
  {
   "cell_type": "markdown",
   "metadata": {},
   "source": [
    "Fetching end of day stock price data from alphavantage: https://www.alphavantage.co/ using fetch_stock_data. Then checking the returned DataFrame object to confirm that the end of day stock price data was successfully loaded into the object."
   ]
  },
  {
   "cell_type": "code",
   "execution_count": 2,
   "metadata": {},
   "outputs": [],
   "source": [
    "# Importing Libraries\n",
    "\n",
    "import os\n",
    "import io\n",
    "import json\n",
    "import requests\n",
    "import pandas as pd\n",
    "\n",
    "def get_api_key(source):\n",
    "    '''\n",
    "    STILL NEEDS WORK, want to keep same API, but don't know how to link to area where user api keys are stored.\n",
    "    \n",
    "    Returns api key for the specific source, :param source:.\n",
    "    \n",
    "    :param source: string, name of api source\n",
    "    \n",
    "    ---> String, api key for the the specific source :param source:\n",
    "    '''\n",
    "    \n",
    "    path_to_keys = os.path.join(project_dir, 'api_keys.json')\n",
    "    with open(path_to_keys, 'r') as f:\n",
    "        api_keys = json.load(f)\n",
    "    \n",
    "    return api_keys[source]\n",
    "\n",
    "\n",
    "def fetch_stock_data(ticker, start_date, end_date=None, source='alphavantage'):\n",
    "    '''\n",
    "    Returns end of day stock price DataFrame from various sources.\n",
    "    \n",
    "    :param ticker: string, stock ticker\n",
    "    :param start_date: string, date to start collecting data after, format: YYYY-MM-DD\n",
    "    :param end_date: string, date to end collecting data at, format: YYYY-MM-DD\n",
    "    :param source: string 'alphavantage' or 'quandl', specifies the source of the data\n",
    "    \n",
    "    ---> DataFrame, of end of day stock price data\n",
    "    '''\n",
    "    \n",
    "    # endpoints for each data source\n",
    "    source_urls = {'alphavantage': 'https://www.alphavantage.co/query',\n",
    "                   'quandl': 'https://www.quandl.com/api/v3/datasets/EOD/'}\n",
    "    \n",
    "    # API parameters for each data source\n",
    "    source_params = {'alphavantage': {'function': 'TIME_SERIES_DAILY_ADJUSTED',\n",
    "                                      'symbol': ticker, 'datatype': 'csv', 'apikey': get_api_key(source),\n",
    "                                      'outputsize': 'full'},\n",
    "                     'quandl': {'api_key': get_api_key(source)}}\n",
    "\n",
    "    # Setting endpoints\n",
    "    url = source_urls[source]\n",
    "    if source == 'quandl':\n",
    "        url = url + ticker + '.csv'\n",
    "    \n",
    "    # Settings API parameters\n",
    "    params = source_params[source]\n",
    "    \n",
    "    # Requesting API\n",
    "    response = requests.get(url, params=params)\n",
    "    \n",
    "    # Creating DataFrame\n",
    "    if source == 'alphavantage':\n",
    "        date_col = 'timestamp'\n",
    "    elif source == 'quandl':\n",
    "        date_col = 'date'    \n",
    "    df = pd.read_csv(io.StringIO(response.text), parse_dates=[date_col])\n",
    "    \n",
    "    # Slicing DataFrame\n",
    "    if start_date != None:\n",
    "        df = df.loc[df[date_col] > start_date]\n",
    "    if end_date != None:\n",
    "        df = df.loc[df[date_col] <= end_date]\n",
    "    \n",
    "    return df"
   ]
  },
  {
   "cell_type": "markdown",
   "metadata": {},
   "source": [
    "Generating end of day stock price DataFrame."
   ]
  },
  {
   "cell_type": "code",
   "execution_count": 91,
   "metadata": {},
   "outputs": [],
   "source": [
    "price_df = fetch_stock_data(ticker, start_date=None)"
   ]
  },
  {
   "cell_type": "markdown",
   "metadata": {},
   "source": [
    "Checking DataFrame info."
   ]
  },
  {
   "cell_type": "code",
   "execution_count": 92,
   "metadata": {},
   "outputs": [
    {
     "name": "stdout",
     "output_type": "stream",
     "text": [
      "<class 'pandas.core.frame.DataFrame'>\n",
      "RangeIndex: 5033 entries, 0 to 5032\n",
      "Data columns (total 9 columns):\n",
      "timestamp            5033 non-null datetime64[ns]\n",
      "open                 5033 non-null float64\n",
      "high                 5033 non-null float64\n",
      "low                  5033 non-null float64\n",
      "close                5033 non-null float64\n",
      "adjusted_close       5033 non-null float64\n",
      "volume               5033 non-null int64\n",
      "dividend_amount      5033 non-null float64\n",
      "split_coefficient    5033 non-null float64\n",
      "dtypes: datetime64[ns](1), float64(7), int64(1)\n",
      "memory usage: 354.0 KB\n"
     ]
    }
   ],
   "source": [
    "price_df.info()"
   ]
  },
  {
   "cell_type": "markdown",
   "metadata": {},
   "source": [
    "Checking the first five rows and the last five rows of DataFrame."
   ]
  },
  {
   "cell_type": "code",
   "execution_count": 93,
   "metadata": {},
   "outputs": [
    {
     "data": {
      "text/html": [
       "<div>\n",
       "<style scoped>\n",
       "    .dataframe tbody tr th:only-of-type {\n",
       "        vertical-align: middle;\n",
       "    }\n",
       "\n",
       "    .dataframe tbody tr th {\n",
       "        vertical-align: top;\n",
       "    }\n",
       "\n",
       "    .dataframe thead th {\n",
       "        text-align: right;\n",
       "    }\n",
       "</style>\n",
       "<table border=\"1\" class=\"dataframe\">\n",
       "  <thead>\n",
       "    <tr style=\"text-align: right;\">\n",
       "      <th></th>\n",
       "      <th>timestamp</th>\n",
       "      <th>open</th>\n",
       "      <th>high</th>\n",
       "      <th>low</th>\n",
       "      <th>close</th>\n",
       "      <th>adjusted_close</th>\n",
       "      <th>volume</th>\n",
       "      <th>dividend_amount</th>\n",
       "      <th>split_coefficient</th>\n",
       "    </tr>\n",
       "  </thead>\n",
       "  <tbody>\n",
       "    <tr>\n",
       "      <td>0</td>\n",
       "      <td>2019-09-26</td>\n",
       "      <td>50.98</td>\n",
       "      <td>51.145</td>\n",
       "      <td>50.348</td>\n",
       "      <td>50.92</td>\n",
       "      <td>50.92</td>\n",
       "      <td>9897846</td>\n",
       "      <td>0.0</td>\n",
       "      <td>1.0</td>\n",
       "    </tr>\n",
       "    <tr>\n",
       "      <td>1</td>\n",
       "      <td>2019-09-25</td>\n",
       "      <td>49.75</td>\n",
       "      <td>51.210</td>\n",
       "      <td>49.420</td>\n",
       "      <td>51.02</td>\n",
       "      <td>51.02</td>\n",
       "      <td>19486700</td>\n",
       "      <td>0.0</td>\n",
       "      <td>1.0</td>\n",
       "    </tr>\n",
       "    <tr>\n",
       "      <td>2</td>\n",
       "      <td>2019-09-24</td>\n",
       "      <td>51.10</td>\n",
       "      <td>51.180</td>\n",
       "      <td>49.640</td>\n",
       "      <td>49.82</td>\n",
       "      <td>49.82</td>\n",
       "      <td>28197400</td>\n",
       "      <td>0.0</td>\n",
       "      <td>1.0</td>\n",
       "    </tr>\n",
       "    <tr>\n",
       "      <td>3</td>\n",
       "      <td>2019-09-23</td>\n",
       "      <td>50.83</td>\n",
       "      <td>51.230</td>\n",
       "      <td>50.390</td>\n",
       "      <td>50.90</td>\n",
       "      <td>50.90</td>\n",
       "      <td>18916600</td>\n",
       "      <td>0.0</td>\n",
       "      <td>1.0</td>\n",
       "    </tr>\n",
       "    <tr>\n",
       "      <td>4</td>\n",
       "      <td>2019-09-20</td>\n",
       "      <td>51.60</td>\n",
       "      <td>51.880</td>\n",
       "      <td>50.560</td>\n",
       "      <td>50.72</td>\n",
       "      <td>50.72</td>\n",
       "      <td>37067900</td>\n",
       "      <td>0.0</td>\n",
       "      <td>1.0</td>\n",
       "    </tr>\n",
       "  </tbody>\n",
       "</table>\n",
       "</div>"
      ],
      "text/plain": [
       "   timestamp   open    high     low  close  adjusted_close    volume  \\\n",
       "0 2019-09-26  50.98  51.145  50.348  50.92           50.92   9897846   \n",
       "1 2019-09-25  49.75  51.210  49.420  51.02           51.02  19486700   \n",
       "2 2019-09-24  51.10  51.180  49.640  49.82           49.82  28197400   \n",
       "3 2019-09-23  50.83  51.230  50.390  50.90           50.90  18916600   \n",
       "4 2019-09-20  51.60  51.880  50.560  50.72           50.72  37067900   \n",
       "\n",
       "   dividend_amount  split_coefficient  \n",
       "0              0.0                1.0  \n",
       "1              0.0                1.0  \n",
       "2              0.0                1.0  \n",
       "3              0.0                1.0  \n",
       "4              0.0                1.0  "
      ]
     },
     "execution_count": 93,
     "metadata": {},
     "output_type": "execute_result"
    }
   ],
   "source": [
    "price_df.head()"
   ]
  },
  {
   "cell_type": "code",
   "execution_count": 94,
   "metadata": {},
   "outputs": [
    {
     "data": {
      "text/html": [
       "<div>\n",
       "<style scoped>\n",
       "    .dataframe tbody tr th:only-of-type {\n",
       "        vertical-align: middle;\n",
       "    }\n",
       "\n",
       "    .dataframe tbody tr th {\n",
       "        vertical-align: top;\n",
       "    }\n",
       "\n",
       "    .dataframe thead th {\n",
       "        text-align: right;\n",
       "    }\n",
       "</style>\n",
       "<table border=\"1\" class=\"dataframe\">\n",
       "  <thead>\n",
       "    <tr style=\"text-align: right;\">\n",
       "      <th></th>\n",
       "      <th>timestamp</th>\n",
       "      <th>open</th>\n",
       "      <th>high</th>\n",
       "      <th>low</th>\n",
       "      <th>close</th>\n",
       "      <th>adjusted_close</th>\n",
       "      <th>volume</th>\n",
       "      <th>dividend_amount</th>\n",
       "      <th>split_coefficient</th>\n",
       "    </tr>\n",
       "  </thead>\n",
       "  <tbody>\n",
       "    <tr>\n",
       "      <td>5028</td>\n",
       "      <td>1999-10-01</td>\n",
       "      <td>37.125</td>\n",
       "      <td>37.750</td>\n",
       "      <td>36.781</td>\n",
       "      <td>37.469</td>\n",
       "      <td>24.2530</td>\n",
       "      <td>37753600</td>\n",
       "      <td>0.0</td>\n",
       "      <td>1.0</td>\n",
       "    </tr>\n",
       "    <tr>\n",
       "      <td>5029</td>\n",
       "      <td>1999-09-30</td>\n",
       "      <td>37.594</td>\n",
       "      <td>38.125</td>\n",
       "      <td>36.688</td>\n",
       "      <td>37.156</td>\n",
       "      <td>24.0507</td>\n",
       "      <td>46111600</td>\n",
       "      <td>0.0</td>\n",
       "      <td>1.0</td>\n",
       "    </tr>\n",
       "    <tr>\n",
       "      <td>5030</td>\n",
       "      <td>1999-09-29</td>\n",
       "      <td>38.750</td>\n",
       "      <td>38.969</td>\n",
       "      <td>37.438</td>\n",
       "      <td>37.594</td>\n",
       "      <td>24.3339</td>\n",
       "      <td>46331800</td>\n",
       "      <td>0.0</td>\n",
       "      <td>1.0</td>\n",
       "    </tr>\n",
       "    <tr>\n",
       "      <td>5031</td>\n",
       "      <td>1999-09-28</td>\n",
       "      <td>39.000</td>\n",
       "      <td>39.125</td>\n",
       "      <td>37.625</td>\n",
       "      <td>38.750</td>\n",
       "      <td>25.0824</td>\n",
       "      <td>50034400</td>\n",
       "      <td>0.0</td>\n",
       "      <td>1.0</td>\n",
       "    </tr>\n",
       "    <tr>\n",
       "      <td>5032</td>\n",
       "      <td>1999-09-27</td>\n",
       "      <td>38.344</td>\n",
       "      <td>39.875</td>\n",
       "      <td>37.875</td>\n",
       "      <td>39.094</td>\n",
       "      <td>25.3049</td>\n",
       "      <td>71235400</td>\n",
       "      <td>0.0</td>\n",
       "      <td>1.0</td>\n",
       "    </tr>\n",
       "  </tbody>\n",
       "</table>\n",
       "</div>"
      ],
      "text/plain": [
       "      timestamp    open    high     low   close  adjusted_close    volume  \\\n",
       "5028 1999-10-01  37.125  37.750  36.781  37.469         24.2530  37753600   \n",
       "5029 1999-09-30  37.594  38.125  36.688  37.156         24.0507  46111600   \n",
       "5030 1999-09-29  38.750  38.969  37.438  37.594         24.3339  46331800   \n",
       "5031 1999-09-28  39.000  39.125  37.625  38.750         25.0824  50034400   \n",
       "5032 1999-09-27  38.344  39.875  37.875  39.094         25.3049  71235400   \n",
       "\n",
       "      dividend_amount  split_coefficient  \n",
       "5028              0.0                1.0  \n",
       "5029              0.0                1.0  \n",
       "5030              0.0                1.0  \n",
       "5031              0.0                1.0  \n",
       "5032              0.0                1.0  "
      ]
     },
     "execution_count": 94,
     "metadata": {},
     "output_type": "execute_result"
    }
   ],
   "source": [
    "price_df.tail()"
   ]
  },
  {
   "cell_type": "markdown",
   "metadata": {},
   "source": [
    "Looks like everything works out!"
   ]
  },
  {
   "cell_type": "markdown",
   "metadata": {},
   "source": [
    "### Fetching Text Data"
   ]
  },
  {
   "cell_type": "markdown",
   "metadata": {},
   "source": [
    "Fetching Intel's 8-K forms from the SEC database. (Link to SEC database, EDGAR: https://www.sec.gov/edgar/searchedgar/companysearch.html) The scraped 8-K forms are saved to the documents folder which lies in the data folder, and are saved in raw text file format. A DataFrame is returned where each row consists of a filing date, and a path to where the 8-K form is saved."
   ]
  },
  {
   "cell_type": "code",
   "execution_count": 3,
   "metadata": {},
   "outputs": [],
   "source": [
    "# Importing Libraries\n",
    "\n",
    "import re\n",
    "import lxml\n",
    "import pandas as pd\n",
    "from bs4 import BeautifulSoup\n",
    "from datetime import date\n",
    "\n",
    "def generate_url_df(cik, start_date, end_date=None, form_type='8-k'):\n",
    "    '''\n",
    "    Returns a DataFrame  where each row consists of a forms filing date, and an url to the raw text version\n",
    "    of the form.\n",
    "    \n",
    "    :param cik: string, the SEC CIK number for the specific company\n",
    "    :param start_date: string, date to start collecting data after, format: YYYY-MM-DD\n",
    "    :param end_date: string, date to end collecting data at, format: YYYY-MM-DD\n",
    "    :param form_type: string '8-k', '10-k', ..., the type of SEC form to search for\n",
    "    \n",
    "    ---> DataFrame, of filing dates and urls to raw text versions of the specified form\n",
    "    '''\n",
    "    \n",
    "    edgar_url = 'https://www.sec.gov/cgi-bin/browse-edgar'\n",
    "    \n",
    "    edgar_params = {'action': 'getcompany', 'CIK': cik, 'type': form_type,\n",
    "                    'owner': 'exclude', 'count': '100', 'output': 'atom', 'start': ''}\n",
    "    \n",
    "    edgar_response = requests.get(edgar_url, params=edgar_params)\n",
    "    \n",
    "    soup = BeautifulSoup(edgar_response.text, 'lxml')\n",
    "    \n",
    "    all_docs = []\n",
    "    # While the link to the next page existing is true\n",
    "    while True:\n",
    "        # Find all document entries on the page\n",
    "        entries = soup.find_all('entry')\n",
    "        # For each entry\n",
    "        for entry in entries:\n",
    "            # scrape the entry's filing date\n",
    "            filing_date = entry.find('filing-date').text\n",
    "            # Add entry url to list if its filing date meets certain requirements, CAN REFACTOR this section\n",
    "            if (start_date == None) and (end_date == None):\n",
    "                doc_link = re.sub('-index.htm.*', '.txt', entry.find('link')['href'])\n",
    "                doc_entry = (filing_date, doc_link)\n",
    "                all_docs.append(doc_entry)\n",
    "            elif (start_date == None) and (end_date != None):\n",
    "                if date.fromisoformat(filing_date) <= date.fromisoformat(end_date):\n",
    "                    doc_link = re.sub('-index.htm.*', '.txt', entry.find('link')['href'])\n",
    "                    doc_entry = (filing_date, doc_link)\n",
    "                    all_docs.append(doc_entry)\n",
    "            elif (start_date != None) and (end_date == None):\n",
    "                if date.fromisoformat(filing_date) >= date.fromisoformat(start_date):\n",
    "                    doc_link = re.sub('-index.htm.*', '.txt', entry.find('link')['href'])\n",
    "                    doc_entry = (filing_date, doc_link)\n",
    "                    all_docs.append(doc_entry)\n",
    "            else:\n",
    "                if date.fromisoformat(start_date) <= date.fromisoformat(filing_date) <= date.fromisoformat(end_date):\n",
    "                    doc_link = re.sub('-index.htm.*', '.txt', entry.find('link')['href'])\n",
    "                    doc_entry = (filing_date, doc_link)\n",
    "                    all_docs.append(doc_entry)\n",
    "        # Break loop after scraping entries on the current page, but before requesting on the link to the next page which is potentially none existant\n",
    "        if soup.find_all('link', {'rel': 'next'}) == []:\n",
    "            break\n",
    "        # Find link to the next page, request next page, and update soup object to consist of the next page\n",
    "        nxt_pg_link = soup.find_all('link', {'rel': 'next'})[0]['href']\n",
    "        nxt_pg = requests.get(nxt_pg_link)\n",
    "        soup = BeautifulSoup(nxt_pg.text, 'lxml')\n",
    "    # Creating DataFrame\n",
    "    doc_df = pd.DataFrame(all_docs, columns=['filing_date', 'doc_loc'])\n",
    "    doc_df['filing_date'] = pd.to_datetime(doc_df['filing_date'])\n",
    "    \n",
    "    return doc_df"
   ]
  },
  {
   "cell_type": "markdown",
   "metadata": {},
   "source": [
    "Generating url DataFrame."
   ]
  },
  {
   "cell_type": "code",
   "execution_count": 96,
   "metadata": {},
   "outputs": [],
   "source": [
    "doc_df = generate_url_df(CIK, start_date=None)"
   ]
  },
  {
   "cell_type": "markdown",
   "metadata": {},
   "source": [
    "Checking DataFrame info."
   ]
  },
  {
   "cell_type": "code",
   "execution_count": 97,
   "metadata": {},
   "outputs": [
    {
     "name": "stdout",
     "output_type": "stream",
     "text": [
      "<class 'pandas.core.frame.DataFrame'>\n",
      "RangeIndex: 336 entries, 0 to 335\n",
      "Data columns (total 2 columns):\n",
      "filing_date    336 non-null datetime64[ns]\n",
      "doc_loc        336 non-null object\n",
      "dtypes: datetime64[ns](1), object(1)\n",
      "memory usage: 5.4+ KB\n"
     ]
    }
   ],
   "source": [
    "doc_df.info()"
   ]
  },
  {
   "cell_type": "markdown",
   "metadata": {},
   "source": [
    "Checking the first five, and last five rows of the DataFrame"
   ]
  },
  {
   "cell_type": "code",
   "execution_count": 98,
   "metadata": {},
   "outputs": [
    {
     "data": {
      "text/html": [
       "<div>\n",
       "<style scoped>\n",
       "    .dataframe tbody tr th:only-of-type {\n",
       "        vertical-align: middle;\n",
       "    }\n",
       "\n",
       "    .dataframe tbody tr th {\n",
       "        vertical-align: top;\n",
       "    }\n",
       "\n",
       "    .dataframe thead th {\n",
       "        text-align: right;\n",
       "    }\n",
       "</style>\n",
       "<table border=\"1\" class=\"dataframe\">\n",
       "  <thead>\n",
       "    <tr style=\"text-align: right;\">\n",
       "      <th></th>\n",
       "      <th>filing_date</th>\n",
       "      <th>doc_loc</th>\n",
       "    </tr>\n",
       "  </thead>\n",
       "  <tbody>\n",
       "    <tr>\n",
       "      <td>0</td>\n",
       "      <td>2019-09-25</td>\n",
       "      <td>https://www.sec.gov/Archives/edgar/data/50863/...</td>\n",
       "    </tr>\n",
       "    <tr>\n",
       "      <td>1</td>\n",
       "      <td>2019-09-13</td>\n",
       "      <td>https://www.sec.gov/Archives/edgar/data/50863/...</td>\n",
       "    </tr>\n",
       "    <tr>\n",
       "      <td>2</td>\n",
       "      <td>2019-07-25</td>\n",
       "      <td>https://www.sec.gov/Archives/edgar/data/50863/...</td>\n",
       "    </tr>\n",
       "    <tr>\n",
       "      <td>3</td>\n",
       "      <td>2019-05-22</td>\n",
       "      <td>https://www.sec.gov/Archives/edgar/data/50863/...</td>\n",
       "    </tr>\n",
       "    <tr>\n",
       "      <td>4</td>\n",
       "      <td>2019-05-09</td>\n",
       "      <td>https://www.sec.gov/Archives/edgar/data/50863/...</td>\n",
       "    </tr>\n",
       "  </tbody>\n",
       "</table>\n",
       "</div>"
      ],
      "text/plain": [
       "  filing_date                                            doc_loc\n",
       "0  2019-09-25  https://www.sec.gov/Archives/edgar/data/50863/...\n",
       "1  2019-09-13  https://www.sec.gov/Archives/edgar/data/50863/...\n",
       "2  2019-07-25  https://www.sec.gov/Archives/edgar/data/50863/...\n",
       "3  2019-05-22  https://www.sec.gov/Archives/edgar/data/50863/...\n",
       "4  2019-05-09  https://www.sec.gov/Archives/edgar/data/50863/..."
      ]
     },
     "execution_count": 98,
     "metadata": {},
     "output_type": "execute_result"
    }
   ],
   "source": [
    "doc_df.head()"
   ]
  },
  {
   "cell_type": "code",
   "execution_count": 99,
   "metadata": {},
   "outputs": [
    {
     "data": {
      "text/html": [
       "<div>\n",
       "<style scoped>\n",
       "    .dataframe tbody tr th:only-of-type {\n",
       "        vertical-align: middle;\n",
       "    }\n",
       "\n",
       "    .dataframe tbody tr th {\n",
       "        vertical-align: top;\n",
       "    }\n",
       "\n",
       "    .dataframe thead th {\n",
       "        text-align: right;\n",
       "    }\n",
       "</style>\n",
       "<table border=\"1\" class=\"dataframe\">\n",
       "  <thead>\n",
       "    <tr style=\"text-align: right;\">\n",
       "      <th></th>\n",
       "      <th>filing_date</th>\n",
       "      <th>doc_loc</th>\n",
       "    </tr>\n",
       "  </thead>\n",
       "  <tbody>\n",
       "    <tr>\n",
       "      <td>331</td>\n",
       "      <td>1998-03-05</td>\n",
       "      <td>https://www.sec.gov/Archives/edgar/data/50863/...</td>\n",
       "    </tr>\n",
       "    <tr>\n",
       "      <td>332</td>\n",
       "      <td>1998-01-14</td>\n",
       "      <td>https://www.sec.gov/Archives/edgar/data/50863/...</td>\n",
       "    </tr>\n",
       "    <tr>\n",
       "      <td>333</td>\n",
       "      <td>1997-10-15</td>\n",
       "      <td>https://www.sec.gov/Archives/edgar/data/50863/...</td>\n",
       "    </tr>\n",
       "    <tr>\n",
       "      <td>334</td>\n",
       "      <td>1995-01-20</td>\n",
       "      <td>https://www.sec.gov/Archives/edgar/data/50863/...</td>\n",
       "    </tr>\n",
       "    <tr>\n",
       "      <td>335</td>\n",
       "      <td>1994-12-21</td>\n",
       "      <td>https://www.sec.gov/Archives/edgar/data/50863/...</td>\n",
       "    </tr>\n",
       "  </tbody>\n",
       "</table>\n",
       "</div>"
      ],
      "text/plain": [
       "    filing_date                                            doc_loc\n",
       "331  1998-03-05  https://www.sec.gov/Archives/edgar/data/50863/...\n",
       "332  1998-01-14  https://www.sec.gov/Archives/edgar/data/50863/...\n",
       "333  1997-10-15  https://www.sec.gov/Archives/edgar/data/50863/...\n",
       "334  1995-01-20  https://www.sec.gov/Archives/edgar/data/50863/...\n",
       "335  1994-12-21  https://www.sec.gov/Archives/edgar/data/50863/..."
      ]
     },
     "execution_count": 99,
     "metadata": {},
     "output_type": "execute_result"
    }
   ],
   "source": [
    "doc_df.tail()"
   ]
  },
  {
   "cell_type": "markdown",
   "metadata": {},
   "source": [
    "### Saving Data to Disk"
   ]
  },
  {
   "cell_type": "markdown",
   "metadata": {},
   "source": [
    "After generating both the end of day stock price DataFrame, and the 8-K url DataFrame we merge them into a DataFrame that contains both sources of data and will represent our full dataset. Each row in this DataFrame contains a date, and the corresponding end of day stock price data, and an url link to an 8-K document if a document was published on the corresponding date. This DataFrame is then cleaned, and saved locally, along with the 8-K forms. The links to the 8-K forms in the DataFrame are also changed to match the local location where the forms are saved."
   ]
  },
  {
   "cell_type": "code",
   "execution_count": 4,
   "metadata": {},
   "outputs": [],
   "source": [
    "# Importing Libraries\n",
    "\n",
    "import os\n",
    "import requests\n",
    "\n",
    "def save_doc(url, endpoint):\n",
    "    '''\n",
    "    Downloads and saves the text file stored at :param url:, and saves it as its downloaded name in directory\n",
    "    :param endpoint:.\n",
    "    \n",
    "    :param url: String, the url that points to the SEC text file\n",
    "    :parame endpoint: String, path to location to save SEC filing\n",
    "    \n",
    "    ---> String, path to saved document\n",
    "    '''\n",
    "    \n",
    "    if not os.path.isdir(endpoint):\n",
    "        os.mkdir(endpoint)\n",
    "    try:\n",
    "        r = requests.get(url)\n",
    "    except:\n",
    "        print('error with url: {}'.format(url))\n",
    "    fname = url.split('/')[-1]\n",
    "    with open(os.path.join(endpoint, fname), 'wb') as f:\n",
    "        f.write(r.content)\n",
    "    return os.path.join(endpoint, fname)"
   ]
  },
  {
   "cell_type": "markdown",
   "metadata": {},
   "source": [
    "Merging the end of day stock price DataFrame, and 8-K url DataFrame on their respective date columns."
   ]
  },
  {
   "cell_type": "code",
   "execution_count": 110,
   "metadata": {},
   "outputs": [],
   "source": [
    "df = price_df.merge(doc_df, how='outer', left_on='timestamp', right_on='filing_date')"
   ]
  },
  {
   "cell_type": "markdown",
   "metadata": {},
   "source": [
    "Checking if dataframes were merged properly."
   ]
  },
  {
   "cell_type": "code",
   "execution_count": 111,
   "metadata": {},
   "outputs": [
    {
     "name": "stdout",
     "output_type": "stream",
     "text": [
      "<class 'pandas.core.frame.DataFrame'>\n",
      "Int64Index: 5059 entries, 0 to 5058\n",
      "Data columns (total 11 columns):\n",
      "timestamp            5043 non-null datetime64[ns]\n",
      "open                 5043 non-null float64\n",
      "high                 5043 non-null float64\n",
      "low                  5043 non-null float64\n",
      "close                5043 non-null float64\n",
      "adjusted_close       5043 non-null float64\n",
      "volume               5043 non-null float64\n",
      "dividend_amount      5043 non-null float64\n",
      "split_coefficient    5043 non-null float64\n",
      "filing_date          336 non-null datetime64[ns]\n",
      "doc_loc              336 non-null object\n",
      "dtypes: datetime64[ns](2), float64(8), object(1)\n",
      "memory usage: 474.3+ KB\n"
     ]
    }
   ],
   "source": [
    "df.info()"
   ]
  },
  {
   "cell_type": "markdown",
   "metadata": {},
   "source": [
    "Checking the first 20 rows and the last 20 rows of the merged DataFrame"
   ]
  },
  {
   "cell_type": "code",
   "execution_count": 112,
   "metadata": {},
   "outputs": [
    {
     "data": {
      "text/html": [
       "<div>\n",
       "<style scoped>\n",
       "    .dataframe tbody tr th:only-of-type {\n",
       "        vertical-align: middle;\n",
       "    }\n",
       "\n",
       "    .dataframe tbody tr th {\n",
       "        vertical-align: top;\n",
       "    }\n",
       "\n",
       "    .dataframe thead th {\n",
       "        text-align: right;\n",
       "    }\n",
       "</style>\n",
       "<table border=\"1\" class=\"dataframe\">\n",
       "  <thead>\n",
       "    <tr style=\"text-align: right;\">\n",
       "      <th></th>\n",
       "      <th>timestamp</th>\n",
       "      <th>open</th>\n",
       "      <th>high</th>\n",
       "      <th>low</th>\n",
       "      <th>close</th>\n",
       "      <th>adjusted_close</th>\n",
       "      <th>volume</th>\n",
       "      <th>dividend_amount</th>\n",
       "      <th>split_coefficient</th>\n",
       "      <th>filing_date</th>\n",
       "      <th>doc_loc</th>\n",
       "    </tr>\n",
       "  </thead>\n",
       "  <tbody>\n",
       "    <tr>\n",
       "      <td>0</td>\n",
       "      <td>2019-09-26</td>\n",
       "      <td>50.98</td>\n",
       "      <td>51.145</td>\n",
       "      <td>50.348</td>\n",
       "      <td>50.92</td>\n",
       "      <td>50.92</td>\n",
       "      <td>9897846.0</td>\n",
       "      <td>0.0</td>\n",
       "      <td>1.0</td>\n",
       "      <td>NaT</td>\n",
       "      <td>NaN</td>\n",
       "    </tr>\n",
       "    <tr>\n",
       "      <td>1</td>\n",
       "      <td>2019-09-25</td>\n",
       "      <td>49.75</td>\n",
       "      <td>51.210</td>\n",
       "      <td>49.420</td>\n",
       "      <td>51.02</td>\n",
       "      <td>51.02</td>\n",
       "      <td>19486700.0</td>\n",
       "      <td>0.0</td>\n",
       "      <td>1.0</td>\n",
       "      <td>2019-09-25</td>\n",
       "      <td>https://www.sec.gov/Archives/edgar/data/50863/...</td>\n",
       "    </tr>\n",
       "    <tr>\n",
       "      <td>2</td>\n",
       "      <td>2019-09-24</td>\n",
       "      <td>51.10</td>\n",
       "      <td>51.180</td>\n",
       "      <td>49.640</td>\n",
       "      <td>49.82</td>\n",
       "      <td>49.82</td>\n",
       "      <td>28197400.0</td>\n",
       "      <td>0.0</td>\n",
       "      <td>1.0</td>\n",
       "      <td>NaT</td>\n",
       "      <td>NaN</td>\n",
       "    </tr>\n",
       "    <tr>\n",
       "      <td>3</td>\n",
       "      <td>2019-09-23</td>\n",
       "      <td>50.83</td>\n",
       "      <td>51.230</td>\n",
       "      <td>50.390</td>\n",
       "      <td>50.90</td>\n",
       "      <td>50.90</td>\n",
       "      <td>18916600.0</td>\n",
       "      <td>0.0</td>\n",
       "      <td>1.0</td>\n",
       "      <td>NaT</td>\n",
       "      <td>NaN</td>\n",
       "    </tr>\n",
       "    <tr>\n",
       "      <td>4</td>\n",
       "      <td>2019-09-20</td>\n",
       "      <td>51.60</td>\n",
       "      <td>51.880</td>\n",
       "      <td>50.560</td>\n",
       "      <td>50.72</td>\n",
       "      <td>50.72</td>\n",
       "      <td>37067900.0</td>\n",
       "      <td>0.0</td>\n",
       "      <td>1.0</td>\n",
       "      <td>NaT</td>\n",
       "      <td>NaN</td>\n",
       "    </tr>\n",
       "    <tr>\n",
       "      <td>5</td>\n",
       "      <td>2019-09-19</td>\n",
       "      <td>51.70</td>\n",
       "      <td>51.990</td>\n",
       "      <td>51.500</td>\n",
       "      <td>51.57</td>\n",
       "      <td>51.57</td>\n",
       "      <td>11428400.0</td>\n",
       "      <td>0.0</td>\n",
       "      <td>1.0</td>\n",
       "      <td>NaT</td>\n",
       "      <td>NaN</td>\n",
       "    </tr>\n",
       "    <tr>\n",
       "      <td>6</td>\n",
       "      <td>2019-09-18</td>\n",
       "      <td>52.13</td>\n",
       "      <td>52.130</td>\n",
       "      <td>51.160</td>\n",
       "      <td>51.74</td>\n",
       "      <td>51.74</td>\n",
       "      <td>14906800.0</td>\n",
       "      <td>0.0</td>\n",
       "      <td>1.0</td>\n",
       "      <td>NaT</td>\n",
       "      <td>NaN</td>\n",
       "    </tr>\n",
       "    <tr>\n",
       "      <td>7</td>\n",
       "      <td>2019-09-17</td>\n",
       "      <td>52.05</td>\n",
       "      <td>52.140</td>\n",
       "      <td>51.350</td>\n",
       "      <td>51.95</td>\n",
       "      <td>51.95</td>\n",
       "      <td>19641100.0</td>\n",
       "      <td>0.0</td>\n",
       "      <td>1.0</td>\n",
       "      <td>NaT</td>\n",
       "      <td>NaN</td>\n",
       "    </tr>\n",
       "    <tr>\n",
       "      <td>8</td>\n",
       "      <td>2019-09-16</td>\n",
       "      <td>51.90</td>\n",
       "      <td>52.290</td>\n",
       "      <td>51.700</td>\n",
       "      <td>52.20</td>\n",
       "      <td>52.20</td>\n",
       "      <td>13354600.0</td>\n",
       "      <td>0.0</td>\n",
       "      <td>1.0</td>\n",
       "      <td>NaT</td>\n",
       "      <td>NaN</td>\n",
       "    </tr>\n",
       "    <tr>\n",
       "      <td>9</td>\n",
       "      <td>2019-09-13</td>\n",
       "      <td>52.76</td>\n",
       "      <td>53.000</td>\n",
       "      <td>52.230</td>\n",
       "      <td>52.54</td>\n",
       "      <td>52.54</td>\n",
       "      <td>18010800.0</td>\n",
       "      <td>0.0</td>\n",
       "      <td>1.0</td>\n",
       "      <td>2019-09-13</td>\n",
       "      <td>https://www.sec.gov/Archives/edgar/data/50863/...</td>\n",
       "    </tr>\n",
       "    <tr>\n",
       "      <td>10</td>\n",
       "      <td>2019-09-12</td>\n",
       "      <td>53.00</td>\n",
       "      <td>53.330</td>\n",
       "      <td>52.070</td>\n",
       "      <td>53.01</td>\n",
       "      <td>53.01</td>\n",
       "      <td>23308700.0</td>\n",
       "      <td>0.0</td>\n",
       "      <td>1.0</td>\n",
       "      <td>NaT</td>\n",
       "      <td>NaN</td>\n",
       "    </tr>\n",
       "    <tr>\n",
       "      <td>11</td>\n",
       "      <td>2019-09-11</td>\n",
       "      <td>51.60</td>\n",
       "      <td>52.790</td>\n",
       "      <td>51.380</td>\n",
       "      <td>52.79</td>\n",
       "      <td>52.79</td>\n",
       "      <td>18968900.0</td>\n",
       "      <td>0.0</td>\n",
       "      <td>1.0</td>\n",
       "      <td>NaT</td>\n",
       "      <td>NaN</td>\n",
       "    </tr>\n",
       "    <tr>\n",
       "      <td>12</td>\n",
       "      <td>2019-09-10</td>\n",
       "      <td>51.33</td>\n",
       "      <td>51.840</td>\n",
       "      <td>50.830</td>\n",
       "      <td>51.82</td>\n",
       "      <td>51.82</td>\n",
       "      <td>18532000.0</td>\n",
       "      <td>0.0</td>\n",
       "      <td>1.0</td>\n",
       "      <td>NaT</td>\n",
       "      <td>NaN</td>\n",
       "    </tr>\n",
       "    <tr>\n",
       "      <td>13</td>\n",
       "      <td>2019-09-09</td>\n",
       "      <td>51.06</td>\n",
       "      <td>52.030</td>\n",
       "      <td>51.020</td>\n",
       "      <td>51.59</td>\n",
       "      <td>51.59</td>\n",
       "      <td>20749700.0</td>\n",
       "      <td>0.0</td>\n",
       "      <td>1.0</td>\n",
       "      <td>NaT</td>\n",
       "      <td>NaN</td>\n",
       "    </tr>\n",
       "    <tr>\n",
       "      <td>14</td>\n",
       "      <td>2019-09-06</td>\n",
       "      <td>50.25</td>\n",
       "      <td>50.990</td>\n",
       "      <td>50.070</td>\n",
       "      <td>50.92</td>\n",
       "      <td>50.92</td>\n",
       "      <td>17067900.0</td>\n",
       "      <td>0.0</td>\n",
       "      <td>1.0</td>\n",
       "      <td>NaT</td>\n",
       "      <td>NaN</td>\n",
       "    </tr>\n",
       "    <tr>\n",
       "      <td>15</td>\n",
       "      <td>2019-09-05</td>\n",
       "      <td>49.93</td>\n",
       "      <td>51.170</td>\n",
       "      <td>49.870</td>\n",
       "      <td>50.10</td>\n",
       "      <td>50.10</td>\n",
       "      <td>30014200.0</td>\n",
       "      <td>0.0</td>\n",
       "      <td>1.0</td>\n",
       "      <td>NaT</td>\n",
       "      <td>NaN</td>\n",
       "    </tr>\n",
       "    <tr>\n",
       "      <td>16</td>\n",
       "      <td>2019-09-04</td>\n",
       "      <td>47.56</td>\n",
       "      <td>48.950</td>\n",
       "      <td>47.540</td>\n",
       "      <td>48.92</td>\n",
       "      <td>48.92</td>\n",
       "      <td>23450700.0</td>\n",
       "      <td>0.0</td>\n",
       "      <td>1.0</td>\n",
       "      <td>NaT</td>\n",
       "      <td>NaN</td>\n",
       "    </tr>\n",
       "    <tr>\n",
       "      <td>17</td>\n",
       "      <td>2019-09-03</td>\n",
       "      <td>47.12</td>\n",
       "      <td>47.220</td>\n",
       "      <td>46.500</td>\n",
       "      <td>46.98</td>\n",
       "      <td>46.98</td>\n",
       "      <td>15003800.0</td>\n",
       "      <td>0.0</td>\n",
       "      <td>1.0</td>\n",
       "      <td>NaT</td>\n",
       "      <td>NaN</td>\n",
       "    </tr>\n",
       "    <tr>\n",
       "      <td>18</td>\n",
       "      <td>2019-08-30</td>\n",
       "      <td>47.24</td>\n",
       "      <td>47.790</td>\n",
       "      <td>47.160</td>\n",
       "      <td>47.41</td>\n",
       "      <td>47.41</td>\n",
       "      <td>16922600.0</td>\n",
       "      <td>0.0</td>\n",
       "      <td>1.0</td>\n",
       "      <td>NaT</td>\n",
       "      <td>NaN</td>\n",
       "    </tr>\n",
       "    <tr>\n",
       "      <td>19</td>\n",
       "      <td>2019-08-29</td>\n",
       "      <td>46.46</td>\n",
       "      <td>47.220</td>\n",
       "      <td>46.400</td>\n",
       "      <td>46.87</td>\n",
       "      <td>46.87</td>\n",
       "      <td>17803800.0</td>\n",
       "      <td>0.0</td>\n",
       "      <td>1.0</td>\n",
       "      <td>NaT</td>\n",
       "      <td>NaN</td>\n",
       "    </tr>\n",
       "  </tbody>\n",
       "</table>\n",
       "</div>"
      ],
      "text/plain": [
       "    timestamp   open    high     low  close  adjusted_close      volume  \\\n",
       "0  2019-09-26  50.98  51.145  50.348  50.92           50.92   9897846.0   \n",
       "1  2019-09-25  49.75  51.210  49.420  51.02           51.02  19486700.0   \n",
       "2  2019-09-24  51.10  51.180  49.640  49.82           49.82  28197400.0   \n",
       "3  2019-09-23  50.83  51.230  50.390  50.90           50.90  18916600.0   \n",
       "4  2019-09-20  51.60  51.880  50.560  50.72           50.72  37067900.0   \n",
       "5  2019-09-19  51.70  51.990  51.500  51.57           51.57  11428400.0   \n",
       "6  2019-09-18  52.13  52.130  51.160  51.74           51.74  14906800.0   \n",
       "7  2019-09-17  52.05  52.140  51.350  51.95           51.95  19641100.0   \n",
       "8  2019-09-16  51.90  52.290  51.700  52.20           52.20  13354600.0   \n",
       "9  2019-09-13  52.76  53.000  52.230  52.54           52.54  18010800.0   \n",
       "10 2019-09-12  53.00  53.330  52.070  53.01           53.01  23308700.0   \n",
       "11 2019-09-11  51.60  52.790  51.380  52.79           52.79  18968900.0   \n",
       "12 2019-09-10  51.33  51.840  50.830  51.82           51.82  18532000.0   \n",
       "13 2019-09-09  51.06  52.030  51.020  51.59           51.59  20749700.0   \n",
       "14 2019-09-06  50.25  50.990  50.070  50.92           50.92  17067900.0   \n",
       "15 2019-09-05  49.93  51.170  49.870  50.10           50.10  30014200.0   \n",
       "16 2019-09-04  47.56  48.950  47.540  48.92           48.92  23450700.0   \n",
       "17 2019-09-03  47.12  47.220  46.500  46.98           46.98  15003800.0   \n",
       "18 2019-08-30  47.24  47.790  47.160  47.41           47.41  16922600.0   \n",
       "19 2019-08-29  46.46  47.220  46.400  46.87           46.87  17803800.0   \n",
       "\n",
       "    dividend_amount  split_coefficient filing_date  \\\n",
       "0               0.0                1.0         NaT   \n",
       "1               0.0                1.0  2019-09-25   \n",
       "2               0.0                1.0         NaT   \n",
       "3               0.0                1.0         NaT   \n",
       "4               0.0                1.0         NaT   \n",
       "5               0.0                1.0         NaT   \n",
       "6               0.0                1.0         NaT   \n",
       "7               0.0                1.0         NaT   \n",
       "8               0.0                1.0         NaT   \n",
       "9               0.0                1.0  2019-09-13   \n",
       "10              0.0                1.0         NaT   \n",
       "11              0.0                1.0         NaT   \n",
       "12              0.0                1.0         NaT   \n",
       "13              0.0                1.0         NaT   \n",
       "14              0.0                1.0         NaT   \n",
       "15              0.0                1.0         NaT   \n",
       "16              0.0                1.0         NaT   \n",
       "17              0.0                1.0         NaT   \n",
       "18              0.0                1.0         NaT   \n",
       "19              0.0                1.0         NaT   \n",
       "\n",
       "                                              doc_loc  \n",
       "0                                                 NaN  \n",
       "1   https://www.sec.gov/Archives/edgar/data/50863/...  \n",
       "2                                                 NaN  \n",
       "3                                                 NaN  \n",
       "4                                                 NaN  \n",
       "5                                                 NaN  \n",
       "6                                                 NaN  \n",
       "7                                                 NaN  \n",
       "8                                                 NaN  \n",
       "9   https://www.sec.gov/Archives/edgar/data/50863/...  \n",
       "10                                                NaN  \n",
       "11                                                NaN  \n",
       "12                                                NaN  \n",
       "13                                                NaN  \n",
       "14                                                NaN  \n",
       "15                                                NaN  \n",
       "16                                                NaN  \n",
       "17                                                NaN  \n",
       "18                                                NaN  \n",
       "19                                                NaN  "
      ]
     },
     "execution_count": 112,
     "metadata": {},
     "output_type": "execute_result"
    }
   ],
   "source": [
    "df.head(20)"
   ]
  },
  {
   "cell_type": "code",
   "execution_count": 113,
   "metadata": {},
   "outputs": [
    {
     "data": {
      "text/html": [
       "<div>\n",
       "<style scoped>\n",
       "    .dataframe tbody tr th:only-of-type {\n",
       "        vertical-align: middle;\n",
       "    }\n",
       "\n",
       "    .dataframe tbody tr th {\n",
       "        vertical-align: top;\n",
       "    }\n",
       "\n",
       "    .dataframe thead th {\n",
       "        text-align: right;\n",
       "    }\n",
       "</style>\n",
       "<table border=\"1\" class=\"dataframe\">\n",
       "  <thead>\n",
       "    <tr style=\"text-align: right;\">\n",
       "      <th></th>\n",
       "      <th>timestamp</th>\n",
       "      <th>open</th>\n",
       "      <th>high</th>\n",
       "      <th>low</th>\n",
       "      <th>close</th>\n",
       "      <th>adjusted_close</th>\n",
       "      <th>volume</th>\n",
       "      <th>dividend_amount</th>\n",
       "      <th>split_coefficient</th>\n",
       "      <th>filing_date</th>\n",
       "      <th>doc_loc</th>\n",
       "    </tr>\n",
       "  </thead>\n",
       "  <tbody>\n",
       "    <tr>\n",
       "      <td>5039</td>\n",
       "      <td>1999-09-30</td>\n",
       "      <td>37.594</td>\n",
       "      <td>38.125</td>\n",
       "      <td>36.688</td>\n",
       "      <td>37.156</td>\n",
       "      <td>24.0507</td>\n",
       "      <td>46111600.0</td>\n",
       "      <td>0.0</td>\n",
       "      <td>1.0</td>\n",
       "      <td>NaT</td>\n",
       "      <td>NaN</td>\n",
       "    </tr>\n",
       "    <tr>\n",
       "      <td>5040</td>\n",
       "      <td>1999-09-29</td>\n",
       "      <td>38.750</td>\n",
       "      <td>38.969</td>\n",
       "      <td>37.438</td>\n",
       "      <td>37.594</td>\n",
       "      <td>24.3339</td>\n",
       "      <td>46331800.0</td>\n",
       "      <td>0.0</td>\n",
       "      <td>1.0</td>\n",
       "      <td>NaT</td>\n",
       "      <td>NaN</td>\n",
       "    </tr>\n",
       "    <tr>\n",
       "      <td>5041</td>\n",
       "      <td>1999-09-28</td>\n",
       "      <td>39.000</td>\n",
       "      <td>39.125</td>\n",
       "      <td>37.625</td>\n",
       "      <td>38.750</td>\n",
       "      <td>25.0824</td>\n",
       "      <td>50034400.0</td>\n",
       "      <td>0.0</td>\n",
       "      <td>1.0</td>\n",
       "      <td>NaT</td>\n",
       "      <td>NaN</td>\n",
       "    </tr>\n",
       "    <tr>\n",
       "      <td>5042</td>\n",
       "      <td>1999-09-27</td>\n",
       "      <td>38.344</td>\n",
       "      <td>39.875</td>\n",
       "      <td>37.875</td>\n",
       "      <td>39.094</td>\n",
       "      <td>25.3049</td>\n",
       "      <td>71235400.0</td>\n",
       "      <td>0.0</td>\n",
       "      <td>1.0</td>\n",
       "      <td>NaT</td>\n",
       "      <td>NaN</td>\n",
       "    </tr>\n",
       "    <tr>\n",
       "      <td>5043</td>\n",
       "      <td>NaT</td>\n",
       "      <td>NaN</td>\n",
       "      <td>NaN</td>\n",
       "      <td>NaN</td>\n",
       "      <td>NaN</td>\n",
       "      <td>NaN</td>\n",
       "      <td>NaN</td>\n",
       "      <td>NaN</td>\n",
       "      <td>NaN</td>\n",
       "      <td>2000-04-21</td>\n",
       "      <td>https://www.sec.gov/Archives/edgar/data/50863/...</td>\n",
       "    </tr>\n",
       "    <tr>\n",
       "      <td>5044</td>\n",
       "      <td>NaT</td>\n",
       "      <td>NaN</td>\n",
       "      <td>NaN</td>\n",
       "      <td>NaN</td>\n",
       "      <td>NaN</td>\n",
       "      <td>NaN</td>\n",
       "      <td>NaN</td>\n",
       "      <td>NaN</td>\n",
       "      <td>NaN</td>\n",
       "      <td>1999-08-10</td>\n",
       "      <td>https://www.sec.gov/Archives/edgar/data/50863/...</td>\n",
       "    </tr>\n",
       "    <tr>\n",
       "      <td>5045</td>\n",
       "      <td>NaT</td>\n",
       "      <td>NaN</td>\n",
       "      <td>NaN</td>\n",
       "      <td>NaN</td>\n",
       "      <td>NaN</td>\n",
       "      <td>NaN</td>\n",
       "      <td>NaN</td>\n",
       "      <td>NaN</td>\n",
       "      <td>NaN</td>\n",
       "      <td>1999-07-14</td>\n",
       "      <td>https://www.sec.gov/Archives/edgar/data/50863/...</td>\n",
       "    </tr>\n",
       "    <tr>\n",
       "      <td>5046</td>\n",
       "      <td>NaT</td>\n",
       "      <td>NaN</td>\n",
       "      <td>NaN</td>\n",
       "      <td>NaN</td>\n",
       "      <td>NaN</td>\n",
       "      <td>NaN</td>\n",
       "      <td>NaN</td>\n",
       "      <td>NaN</td>\n",
       "      <td>NaN</td>\n",
       "      <td>1999-07-08</td>\n",
       "      <td>https://www.sec.gov/Archives/edgar/data/50863/...</td>\n",
       "    </tr>\n",
       "    <tr>\n",
       "      <td>5047</td>\n",
       "      <td>NaT</td>\n",
       "      <td>NaN</td>\n",
       "      <td>NaN</td>\n",
       "      <td>NaN</td>\n",
       "      <td>NaN</td>\n",
       "      <td>NaN</td>\n",
       "      <td>NaN</td>\n",
       "      <td>NaN</td>\n",
       "      <td>NaN</td>\n",
       "      <td>1999-04-14</td>\n",
       "      <td>https://www.sec.gov/Archives/edgar/data/50863/...</td>\n",
       "    </tr>\n",
       "    <tr>\n",
       "      <td>5048</td>\n",
       "      <td>NaT</td>\n",
       "      <td>NaN</td>\n",
       "      <td>NaN</td>\n",
       "      <td>NaN</td>\n",
       "      <td>NaN</td>\n",
       "      <td>NaN</td>\n",
       "      <td>NaN</td>\n",
       "      <td>NaN</td>\n",
       "      <td>NaN</td>\n",
       "      <td>1999-03-12</td>\n",
       "      <td>https://www.sec.gov/Archives/edgar/data/50863/...</td>\n",
       "    </tr>\n",
       "    <tr>\n",
       "      <td>5049</td>\n",
       "      <td>NaT</td>\n",
       "      <td>NaN</td>\n",
       "      <td>NaN</td>\n",
       "      <td>NaN</td>\n",
       "      <td>NaN</td>\n",
       "      <td>NaN</td>\n",
       "      <td>NaN</td>\n",
       "      <td>NaN</td>\n",
       "      <td>NaN</td>\n",
       "      <td>1999-01-14</td>\n",
       "      <td>https://www.sec.gov/Archives/edgar/data/50863/...</td>\n",
       "    </tr>\n",
       "    <tr>\n",
       "      <td>5050</td>\n",
       "      <td>NaT</td>\n",
       "      <td>NaN</td>\n",
       "      <td>NaN</td>\n",
       "      <td>NaN</td>\n",
       "      <td>NaN</td>\n",
       "      <td>NaN</td>\n",
       "      <td>NaN</td>\n",
       "      <td>NaN</td>\n",
       "      <td>NaN</td>\n",
       "      <td>1998-10-14</td>\n",
       "      <td>https://www.sec.gov/Archives/edgar/data/50863/...</td>\n",
       "    </tr>\n",
       "    <tr>\n",
       "      <td>5051</td>\n",
       "      <td>NaT</td>\n",
       "      <td>NaN</td>\n",
       "      <td>NaN</td>\n",
       "      <td>NaN</td>\n",
       "      <td>NaN</td>\n",
       "      <td>NaN</td>\n",
       "      <td>NaN</td>\n",
       "      <td>NaN</td>\n",
       "      <td>NaN</td>\n",
       "      <td>1998-07-16</td>\n",
       "      <td>https://www.sec.gov/Archives/edgar/data/50863/...</td>\n",
       "    </tr>\n",
       "    <tr>\n",
       "      <td>5052</td>\n",
       "      <td>NaT</td>\n",
       "      <td>NaN</td>\n",
       "      <td>NaN</td>\n",
       "      <td>NaN</td>\n",
       "      <td>NaN</td>\n",
       "      <td>NaN</td>\n",
       "      <td>NaN</td>\n",
       "      <td>NaN</td>\n",
       "      <td>NaN</td>\n",
       "      <td>1998-04-15</td>\n",
       "      <td>https://www.sec.gov/Archives/edgar/data/50863/...</td>\n",
       "    </tr>\n",
       "    <tr>\n",
       "      <td>5053</td>\n",
       "      <td>NaT</td>\n",
       "      <td>NaN</td>\n",
       "      <td>NaN</td>\n",
       "      <td>NaN</td>\n",
       "      <td>NaN</td>\n",
       "      <td>NaN</td>\n",
       "      <td>NaN</td>\n",
       "      <td>NaN</td>\n",
       "      <td>NaN</td>\n",
       "      <td>1998-03-06</td>\n",
       "      <td>https://www.sec.gov/Archives/edgar/data/50863/...</td>\n",
       "    </tr>\n",
       "    <tr>\n",
       "      <td>5054</td>\n",
       "      <td>NaT</td>\n",
       "      <td>NaN</td>\n",
       "      <td>NaN</td>\n",
       "      <td>NaN</td>\n",
       "      <td>NaN</td>\n",
       "      <td>NaN</td>\n",
       "      <td>NaN</td>\n",
       "      <td>NaN</td>\n",
       "      <td>NaN</td>\n",
       "      <td>1998-03-05</td>\n",
       "      <td>https://www.sec.gov/Archives/edgar/data/50863/...</td>\n",
       "    </tr>\n",
       "    <tr>\n",
       "      <td>5055</td>\n",
       "      <td>NaT</td>\n",
       "      <td>NaN</td>\n",
       "      <td>NaN</td>\n",
       "      <td>NaN</td>\n",
       "      <td>NaN</td>\n",
       "      <td>NaN</td>\n",
       "      <td>NaN</td>\n",
       "      <td>NaN</td>\n",
       "      <td>NaN</td>\n",
       "      <td>1998-01-14</td>\n",
       "      <td>https://www.sec.gov/Archives/edgar/data/50863/...</td>\n",
       "    </tr>\n",
       "    <tr>\n",
       "      <td>5056</td>\n",
       "      <td>NaT</td>\n",
       "      <td>NaN</td>\n",
       "      <td>NaN</td>\n",
       "      <td>NaN</td>\n",
       "      <td>NaN</td>\n",
       "      <td>NaN</td>\n",
       "      <td>NaN</td>\n",
       "      <td>NaN</td>\n",
       "      <td>NaN</td>\n",
       "      <td>1997-10-15</td>\n",
       "      <td>https://www.sec.gov/Archives/edgar/data/50863/...</td>\n",
       "    </tr>\n",
       "    <tr>\n",
       "      <td>5057</td>\n",
       "      <td>NaT</td>\n",
       "      <td>NaN</td>\n",
       "      <td>NaN</td>\n",
       "      <td>NaN</td>\n",
       "      <td>NaN</td>\n",
       "      <td>NaN</td>\n",
       "      <td>NaN</td>\n",
       "      <td>NaN</td>\n",
       "      <td>NaN</td>\n",
       "      <td>1995-01-20</td>\n",
       "      <td>https://www.sec.gov/Archives/edgar/data/50863/...</td>\n",
       "    </tr>\n",
       "    <tr>\n",
       "      <td>5058</td>\n",
       "      <td>NaT</td>\n",
       "      <td>NaN</td>\n",
       "      <td>NaN</td>\n",
       "      <td>NaN</td>\n",
       "      <td>NaN</td>\n",
       "      <td>NaN</td>\n",
       "      <td>NaN</td>\n",
       "      <td>NaN</td>\n",
       "      <td>NaN</td>\n",
       "      <td>1994-12-21</td>\n",
       "      <td>https://www.sec.gov/Archives/edgar/data/50863/...</td>\n",
       "    </tr>\n",
       "  </tbody>\n",
       "</table>\n",
       "</div>"
      ],
      "text/plain": [
       "      timestamp    open    high     low   close  adjusted_close      volume  \\\n",
       "5039 1999-09-30  37.594  38.125  36.688  37.156         24.0507  46111600.0   \n",
       "5040 1999-09-29  38.750  38.969  37.438  37.594         24.3339  46331800.0   \n",
       "5041 1999-09-28  39.000  39.125  37.625  38.750         25.0824  50034400.0   \n",
       "5042 1999-09-27  38.344  39.875  37.875  39.094         25.3049  71235400.0   \n",
       "5043        NaT     NaN     NaN     NaN     NaN             NaN         NaN   \n",
       "5044        NaT     NaN     NaN     NaN     NaN             NaN         NaN   \n",
       "5045        NaT     NaN     NaN     NaN     NaN             NaN         NaN   \n",
       "5046        NaT     NaN     NaN     NaN     NaN             NaN         NaN   \n",
       "5047        NaT     NaN     NaN     NaN     NaN             NaN         NaN   \n",
       "5048        NaT     NaN     NaN     NaN     NaN             NaN         NaN   \n",
       "5049        NaT     NaN     NaN     NaN     NaN             NaN         NaN   \n",
       "5050        NaT     NaN     NaN     NaN     NaN             NaN         NaN   \n",
       "5051        NaT     NaN     NaN     NaN     NaN             NaN         NaN   \n",
       "5052        NaT     NaN     NaN     NaN     NaN             NaN         NaN   \n",
       "5053        NaT     NaN     NaN     NaN     NaN             NaN         NaN   \n",
       "5054        NaT     NaN     NaN     NaN     NaN             NaN         NaN   \n",
       "5055        NaT     NaN     NaN     NaN     NaN             NaN         NaN   \n",
       "5056        NaT     NaN     NaN     NaN     NaN             NaN         NaN   \n",
       "5057        NaT     NaN     NaN     NaN     NaN             NaN         NaN   \n",
       "5058        NaT     NaN     NaN     NaN     NaN             NaN         NaN   \n",
       "\n",
       "      dividend_amount  split_coefficient filing_date  \\\n",
       "5039              0.0                1.0         NaT   \n",
       "5040              0.0                1.0         NaT   \n",
       "5041              0.0                1.0         NaT   \n",
       "5042              0.0                1.0         NaT   \n",
       "5043              NaN                NaN  2000-04-21   \n",
       "5044              NaN                NaN  1999-08-10   \n",
       "5045              NaN                NaN  1999-07-14   \n",
       "5046              NaN                NaN  1999-07-08   \n",
       "5047              NaN                NaN  1999-04-14   \n",
       "5048              NaN                NaN  1999-03-12   \n",
       "5049              NaN                NaN  1999-01-14   \n",
       "5050              NaN                NaN  1998-10-14   \n",
       "5051              NaN                NaN  1998-07-16   \n",
       "5052              NaN                NaN  1998-04-15   \n",
       "5053              NaN                NaN  1998-03-06   \n",
       "5054              NaN                NaN  1998-03-05   \n",
       "5055              NaN                NaN  1998-01-14   \n",
       "5056              NaN                NaN  1997-10-15   \n",
       "5057              NaN                NaN  1995-01-20   \n",
       "5058              NaN                NaN  1994-12-21   \n",
       "\n",
       "                                                doc_loc  \n",
       "5039                                                NaN  \n",
       "5040                                                NaN  \n",
       "5041                                                NaN  \n",
       "5042                                                NaN  \n",
       "5043  https://www.sec.gov/Archives/edgar/data/50863/...  \n",
       "5044  https://www.sec.gov/Archives/edgar/data/50863/...  \n",
       "5045  https://www.sec.gov/Archives/edgar/data/50863/...  \n",
       "5046  https://www.sec.gov/Archives/edgar/data/50863/...  \n",
       "5047  https://www.sec.gov/Archives/edgar/data/50863/...  \n",
       "5048  https://www.sec.gov/Archives/edgar/data/50863/...  \n",
       "5049  https://www.sec.gov/Archives/edgar/data/50863/...  \n",
       "5050  https://www.sec.gov/Archives/edgar/data/50863/...  \n",
       "5051  https://www.sec.gov/Archives/edgar/data/50863/...  \n",
       "5052  https://www.sec.gov/Archives/edgar/data/50863/...  \n",
       "5053  https://www.sec.gov/Archives/edgar/data/50863/...  \n",
       "5054  https://www.sec.gov/Archives/edgar/data/50863/...  \n",
       "5055  https://www.sec.gov/Archives/edgar/data/50863/...  \n",
       "5056  https://www.sec.gov/Archives/edgar/data/50863/...  \n",
       "5057  https://www.sec.gov/Archives/edgar/data/50863/...  \n",
       "5058  https://www.sec.gov/Archives/edgar/data/50863/...  "
      ]
     },
     "execution_count": 113,
     "metadata": {},
     "output_type": "execute_result"
    }
   ],
   "source": [
    "df.tail(20)"
   ]
  },
  {
   "cell_type": "markdown",
   "metadata": {},
   "source": [
    "Cleaning the merged DataFrame by droping any rows where there are no end of day stock price data reported. These rows are dropped because these dates would have 8-K form data but no corresponding price date (label) to map to, and thus are not fit for a supervised learning setting."
   ]
  },
  {
   "cell_type": "code",
   "execution_count": 123,
   "metadata": {},
   "outputs": [],
   "source": [
    "df.dropna(subset=['timestamp'], inplace=True)"
   ]
  },
  {
   "cell_type": "markdown",
   "metadata": {},
   "source": [
    "Checking if data was cleaned properly."
   ]
  },
  {
   "cell_type": "code",
   "execution_count": 124,
   "metadata": {
    "scrolled": true
   },
   "outputs": [
    {
     "data": {
      "text/html": [
       "<div>\n",
       "<style scoped>\n",
       "    .dataframe tbody tr th:only-of-type {\n",
       "        vertical-align: middle;\n",
       "    }\n",
       "\n",
       "    .dataframe tbody tr th {\n",
       "        vertical-align: top;\n",
       "    }\n",
       "\n",
       "    .dataframe thead th {\n",
       "        text-align: right;\n",
       "    }\n",
       "</style>\n",
       "<table border=\"1\" class=\"dataframe\">\n",
       "  <thead>\n",
       "    <tr style=\"text-align: right;\">\n",
       "      <th></th>\n",
       "      <th>timestamp</th>\n",
       "      <th>open</th>\n",
       "      <th>high</th>\n",
       "      <th>low</th>\n",
       "      <th>close</th>\n",
       "      <th>adjusted_close</th>\n",
       "      <th>volume</th>\n",
       "      <th>dividend_amount</th>\n",
       "      <th>split_coefficient</th>\n",
       "      <th>doc_loc</th>\n",
       "    </tr>\n",
       "  </thead>\n",
       "  <tbody>\n",
       "    <tr>\n",
       "      <td>5038</td>\n",
       "      <td>1999-10-01</td>\n",
       "      <td>37.125</td>\n",
       "      <td>37.750</td>\n",
       "      <td>36.781</td>\n",
       "      <td>37.469</td>\n",
       "      <td>24.2530</td>\n",
       "      <td>37753600.0</td>\n",
       "      <td>0.0</td>\n",
       "      <td>1.0</td>\n",
       "      <td>NaN</td>\n",
       "    </tr>\n",
       "    <tr>\n",
       "      <td>5039</td>\n",
       "      <td>1999-09-30</td>\n",
       "      <td>37.594</td>\n",
       "      <td>38.125</td>\n",
       "      <td>36.688</td>\n",
       "      <td>37.156</td>\n",
       "      <td>24.0507</td>\n",
       "      <td>46111600.0</td>\n",
       "      <td>0.0</td>\n",
       "      <td>1.0</td>\n",
       "      <td>NaN</td>\n",
       "    </tr>\n",
       "    <tr>\n",
       "      <td>5040</td>\n",
       "      <td>1999-09-29</td>\n",
       "      <td>38.750</td>\n",
       "      <td>38.969</td>\n",
       "      <td>37.438</td>\n",
       "      <td>37.594</td>\n",
       "      <td>24.3339</td>\n",
       "      <td>46331800.0</td>\n",
       "      <td>0.0</td>\n",
       "      <td>1.0</td>\n",
       "      <td>NaN</td>\n",
       "    </tr>\n",
       "    <tr>\n",
       "      <td>5041</td>\n",
       "      <td>1999-09-28</td>\n",
       "      <td>39.000</td>\n",
       "      <td>39.125</td>\n",
       "      <td>37.625</td>\n",
       "      <td>38.750</td>\n",
       "      <td>25.0824</td>\n",
       "      <td>50034400.0</td>\n",
       "      <td>0.0</td>\n",
       "      <td>1.0</td>\n",
       "      <td>NaN</td>\n",
       "    </tr>\n",
       "    <tr>\n",
       "      <td>5042</td>\n",
       "      <td>1999-09-27</td>\n",
       "      <td>38.344</td>\n",
       "      <td>39.875</td>\n",
       "      <td>37.875</td>\n",
       "      <td>39.094</td>\n",
       "      <td>25.3049</td>\n",
       "      <td>71235400.0</td>\n",
       "      <td>0.0</td>\n",
       "      <td>1.0</td>\n",
       "      <td>NaN</td>\n",
       "    </tr>\n",
       "  </tbody>\n",
       "</table>\n",
       "</div>"
      ],
      "text/plain": [
       "      timestamp    open    high     low   close  adjusted_close      volume  \\\n",
       "5038 1999-10-01  37.125  37.750  36.781  37.469         24.2530  37753600.0   \n",
       "5039 1999-09-30  37.594  38.125  36.688  37.156         24.0507  46111600.0   \n",
       "5040 1999-09-29  38.750  38.969  37.438  37.594         24.3339  46331800.0   \n",
       "5041 1999-09-28  39.000  39.125  37.625  38.750         25.0824  50034400.0   \n",
       "5042 1999-09-27  38.344  39.875  37.875  39.094         25.3049  71235400.0   \n",
       "\n",
       "      dividend_amount  split_coefficient doc_loc  \n",
       "5038              0.0                1.0     NaN  \n",
       "5039              0.0                1.0     NaN  \n",
       "5040              0.0                1.0     NaN  \n",
       "5041              0.0                1.0     NaN  \n",
       "5042              0.0                1.0     NaN  "
      ]
     },
     "execution_count": 124,
     "metadata": {},
     "output_type": "execute_result"
    }
   ],
   "source": [
    "df.tail()"
   ]
  },
  {
   "cell_type": "markdown",
   "metadata": {},
   "source": [
    "Cleaning the merged DataFrame by dropping the filing_date column because it contains redundant information (We already have the timestamp column)."
   ]
  },
  {
   "cell_type": "code",
   "execution_count": 115,
   "metadata": {},
   "outputs": [],
   "source": [
    "df.drop(['filing_date'], inplace=True, axis=1)"
   ]
  },
  {
   "cell_type": "markdown",
   "metadata": {},
   "source": [
    "Checking if the data was cleaned properly."
   ]
  },
  {
   "cell_type": "code",
   "execution_count": 125,
   "metadata": {},
   "outputs": [
    {
     "data": {
      "text/html": [
       "<div>\n",
       "<style scoped>\n",
       "    .dataframe tbody tr th:only-of-type {\n",
       "        vertical-align: middle;\n",
       "    }\n",
       "\n",
       "    .dataframe tbody tr th {\n",
       "        vertical-align: top;\n",
       "    }\n",
       "\n",
       "    .dataframe thead th {\n",
       "        text-align: right;\n",
       "    }\n",
       "</style>\n",
       "<table border=\"1\" class=\"dataframe\">\n",
       "  <thead>\n",
       "    <tr style=\"text-align: right;\">\n",
       "      <th></th>\n",
       "      <th>timestamp</th>\n",
       "      <th>open</th>\n",
       "      <th>high</th>\n",
       "      <th>low</th>\n",
       "      <th>close</th>\n",
       "      <th>adjusted_close</th>\n",
       "      <th>volume</th>\n",
       "      <th>dividend_amount</th>\n",
       "      <th>split_coefficient</th>\n",
       "      <th>doc_loc</th>\n",
       "    </tr>\n",
       "  </thead>\n",
       "  <tbody>\n",
       "    <tr>\n",
       "      <td>0</td>\n",
       "      <td>2019-09-26</td>\n",
       "      <td>50.98</td>\n",
       "      <td>51.145</td>\n",
       "      <td>50.348</td>\n",
       "      <td>50.92</td>\n",
       "      <td>50.92</td>\n",
       "      <td>9897846.0</td>\n",
       "      <td>0.0</td>\n",
       "      <td>1.0</td>\n",
       "      <td>NaN</td>\n",
       "    </tr>\n",
       "    <tr>\n",
       "      <td>1</td>\n",
       "      <td>2019-09-25</td>\n",
       "      <td>49.75</td>\n",
       "      <td>51.210</td>\n",
       "      <td>49.420</td>\n",
       "      <td>51.02</td>\n",
       "      <td>51.02</td>\n",
       "      <td>19486700.0</td>\n",
       "      <td>0.0</td>\n",
       "      <td>1.0</td>\n",
       "      <td>/media/Data/Programs/FinTech/data/documents/00...</td>\n",
       "    </tr>\n",
       "    <tr>\n",
       "      <td>2</td>\n",
       "      <td>2019-09-24</td>\n",
       "      <td>51.10</td>\n",
       "      <td>51.180</td>\n",
       "      <td>49.640</td>\n",
       "      <td>49.82</td>\n",
       "      <td>49.82</td>\n",
       "      <td>28197400.0</td>\n",
       "      <td>0.0</td>\n",
       "      <td>1.0</td>\n",
       "      <td>NaN</td>\n",
       "    </tr>\n",
       "    <tr>\n",
       "      <td>3</td>\n",
       "      <td>2019-09-23</td>\n",
       "      <td>50.83</td>\n",
       "      <td>51.230</td>\n",
       "      <td>50.390</td>\n",
       "      <td>50.90</td>\n",
       "      <td>50.90</td>\n",
       "      <td>18916600.0</td>\n",
       "      <td>0.0</td>\n",
       "      <td>1.0</td>\n",
       "      <td>NaN</td>\n",
       "    </tr>\n",
       "    <tr>\n",
       "      <td>4</td>\n",
       "      <td>2019-09-20</td>\n",
       "      <td>51.60</td>\n",
       "      <td>51.880</td>\n",
       "      <td>50.560</td>\n",
       "      <td>50.72</td>\n",
       "      <td>50.72</td>\n",
       "      <td>37067900.0</td>\n",
       "      <td>0.0</td>\n",
       "      <td>1.0</td>\n",
       "      <td>NaN</td>\n",
       "    </tr>\n",
       "  </tbody>\n",
       "</table>\n",
       "</div>"
      ],
      "text/plain": [
       "   timestamp   open    high     low  close  adjusted_close      volume  \\\n",
       "0 2019-09-26  50.98  51.145  50.348  50.92           50.92   9897846.0   \n",
       "1 2019-09-25  49.75  51.210  49.420  51.02           51.02  19486700.0   \n",
       "2 2019-09-24  51.10  51.180  49.640  49.82           49.82  28197400.0   \n",
       "3 2019-09-23  50.83  51.230  50.390  50.90           50.90  18916600.0   \n",
       "4 2019-09-20  51.60  51.880  50.560  50.72           50.72  37067900.0   \n",
       "\n",
       "   dividend_amount  split_coefficient  \\\n",
       "0              0.0                1.0   \n",
       "1              0.0                1.0   \n",
       "2              0.0                1.0   \n",
       "3              0.0                1.0   \n",
       "4              0.0                1.0   \n",
       "\n",
       "                                             doc_loc  \n",
       "0                                                NaN  \n",
       "1  /media/Data/Programs/FinTech/data/documents/00...  \n",
       "2                                                NaN  \n",
       "3                                                NaN  \n",
       "4                                                NaN  "
      ]
     },
     "execution_count": 125,
     "metadata": {},
     "output_type": "execute_result"
    }
   ],
   "source": [
    "df.head()"
   ]
  },
  {
   "cell_type": "markdown",
   "metadata": {},
   "source": [
    "Saving the 8-K forms to disk in the documents folder located in the data folder. Updating the doc_loc column of the merged DataFrame to reflect the local location of where the 8-K documents were saved to. This updated DataFrame is then saved in the data folder as raw.csv."
   ]
  },
  {
   "cell_type": "markdown",
   "metadata": {},
   "source": [
    "Saving 8-K forms and updating the doc_loc column of the merged DataFrame."
   ]
  },
  {
   "cell_type": "code",
   "execution_count": 120,
   "metadata": {},
   "outputs": [],
   "source": [
    "df['doc_loc'] = df['doc_loc'].map(lambda url: save_doc(url, os.path.join(path_to_docs, CIK + 'bytes')) if not pd.isnull(url) else np.nan)"
   ]
  },
  {
   "cell_type": "markdown",
   "metadata": {},
   "source": [
    "Checking if the merged DataFrame was updated properly by viewing its first 10 rows."
   ]
  },
  {
   "cell_type": "code",
   "execution_count": 126,
   "metadata": {},
   "outputs": [
    {
     "data": {
      "text/html": [
       "<div>\n",
       "<style scoped>\n",
       "    .dataframe tbody tr th:only-of-type {\n",
       "        vertical-align: middle;\n",
       "    }\n",
       "\n",
       "    .dataframe tbody tr th {\n",
       "        vertical-align: top;\n",
       "    }\n",
       "\n",
       "    .dataframe thead th {\n",
       "        text-align: right;\n",
       "    }\n",
       "</style>\n",
       "<table border=\"1\" class=\"dataframe\">\n",
       "  <thead>\n",
       "    <tr style=\"text-align: right;\">\n",
       "      <th></th>\n",
       "      <th>timestamp</th>\n",
       "      <th>open</th>\n",
       "      <th>high</th>\n",
       "      <th>low</th>\n",
       "      <th>close</th>\n",
       "      <th>adjusted_close</th>\n",
       "      <th>volume</th>\n",
       "      <th>dividend_amount</th>\n",
       "      <th>split_coefficient</th>\n",
       "      <th>doc_loc</th>\n",
       "    </tr>\n",
       "  </thead>\n",
       "  <tbody>\n",
       "    <tr>\n",
       "      <td>0</td>\n",
       "      <td>2019-09-26</td>\n",
       "      <td>50.98</td>\n",
       "      <td>51.145</td>\n",
       "      <td>50.348</td>\n",
       "      <td>50.92</td>\n",
       "      <td>50.92</td>\n",
       "      <td>9897846.0</td>\n",
       "      <td>0.0</td>\n",
       "      <td>1.0</td>\n",
       "      <td>NaN</td>\n",
       "    </tr>\n",
       "    <tr>\n",
       "      <td>1</td>\n",
       "      <td>2019-09-25</td>\n",
       "      <td>49.75</td>\n",
       "      <td>51.210</td>\n",
       "      <td>49.420</td>\n",
       "      <td>51.02</td>\n",
       "      <td>51.02</td>\n",
       "      <td>19486700.0</td>\n",
       "      <td>0.0</td>\n",
       "      <td>1.0</td>\n",
       "      <td>/media/Data/Programs/FinTech/data/documents/00...</td>\n",
       "    </tr>\n",
       "    <tr>\n",
       "      <td>2</td>\n",
       "      <td>2019-09-24</td>\n",
       "      <td>51.10</td>\n",
       "      <td>51.180</td>\n",
       "      <td>49.640</td>\n",
       "      <td>49.82</td>\n",
       "      <td>49.82</td>\n",
       "      <td>28197400.0</td>\n",
       "      <td>0.0</td>\n",
       "      <td>1.0</td>\n",
       "      <td>NaN</td>\n",
       "    </tr>\n",
       "    <tr>\n",
       "      <td>3</td>\n",
       "      <td>2019-09-23</td>\n",
       "      <td>50.83</td>\n",
       "      <td>51.230</td>\n",
       "      <td>50.390</td>\n",
       "      <td>50.90</td>\n",
       "      <td>50.90</td>\n",
       "      <td>18916600.0</td>\n",
       "      <td>0.0</td>\n",
       "      <td>1.0</td>\n",
       "      <td>NaN</td>\n",
       "    </tr>\n",
       "    <tr>\n",
       "      <td>4</td>\n",
       "      <td>2019-09-20</td>\n",
       "      <td>51.60</td>\n",
       "      <td>51.880</td>\n",
       "      <td>50.560</td>\n",
       "      <td>50.72</td>\n",
       "      <td>50.72</td>\n",
       "      <td>37067900.0</td>\n",
       "      <td>0.0</td>\n",
       "      <td>1.0</td>\n",
       "      <td>NaN</td>\n",
       "    </tr>\n",
       "    <tr>\n",
       "      <td>5</td>\n",
       "      <td>2019-09-19</td>\n",
       "      <td>51.70</td>\n",
       "      <td>51.990</td>\n",
       "      <td>51.500</td>\n",
       "      <td>51.57</td>\n",
       "      <td>51.57</td>\n",
       "      <td>11428400.0</td>\n",
       "      <td>0.0</td>\n",
       "      <td>1.0</td>\n",
       "      <td>NaN</td>\n",
       "    </tr>\n",
       "    <tr>\n",
       "      <td>6</td>\n",
       "      <td>2019-09-18</td>\n",
       "      <td>52.13</td>\n",
       "      <td>52.130</td>\n",
       "      <td>51.160</td>\n",
       "      <td>51.74</td>\n",
       "      <td>51.74</td>\n",
       "      <td>14906800.0</td>\n",
       "      <td>0.0</td>\n",
       "      <td>1.0</td>\n",
       "      <td>NaN</td>\n",
       "    </tr>\n",
       "    <tr>\n",
       "      <td>7</td>\n",
       "      <td>2019-09-17</td>\n",
       "      <td>52.05</td>\n",
       "      <td>52.140</td>\n",
       "      <td>51.350</td>\n",
       "      <td>51.95</td>\n",
       "      <td>51.95</td>\n",
       "      <td>19641100.0</td>\n",
       "      <td>0.0</td>\n",
       "      <td>1.0</td>\n",
       "      <td>NaN</td>\n",
       "    </tr>\n",
       "    <tr>\n",
       "      <td>8</td>\n",
       "      <td>2019-09-16</td>\n",
       "      <td>51.90</td>\n",
       "      <td>52.290</td>\n",
       "      <td>51.700</td>\n",
       "      <td>52.20</td>\n",
       "      <td>52.20</td>\n",
       "      <td>13354600.0</td>\n",
       "      <td>0.0</td>\n",
       "      <td>1.0</td>\n",
       "      <td>NaN</td>\n",
       "    </tr>\n",
       "    <tr>\n",
       "      <td>9</td>\n",
       "      <td>2019-09-13</td>\n",
       "      <td>52.76</td>\n",
       "      <td>53.000</td>\n",
       "      <td>52.230</td>\n",
       "      <td>52.54</td>\n",
       "      <td>52.54</td>\n",
       "      <td>18010800.0</td>\n",
       "      <td>0.0</td>\n",
       "      <td>1.0</td>\n",
       "      <td>/media/Data/Programs/FinTech/data/documents/00...</td>\n",
       "    </tr>\n",
       "  </tbody>\n",
       "</table>\n",
       "</div>"
      ],
      "text/plain": [
       "   timestamp   open    high     low  close  adjusted_close      volume  \\\n",
       "0 2019-09-26  50.98  51.145  50.348  50.92           50.92   9897846.0   \n",
       "1 2019-09-25  49.75  51.210  49.420  51.02           51.02  19486700.0   \n",
       "2 2019-09-24  51.10  51.180  49.640  49.82           49.82  28197400.0   \n",
       "3 2019-09-23  50.83  51.230  50.390  50.90           50.90  18916600.0   \n",
       "4 2019-09-20  51.60  51.880  50.560  50.72           50.72  37067900.0   \n",
       "5 2019-09-19  51.70  51.990  51.500  51.57           51.57  11428400.0   \n",
       "6 2019-09-18  52.13  52.130  51.160  51.74           51.74  14906800.0   \n",
       "7 2019-09-17  52.05  52.140  51.350  51.95           51.95  19641100.0   \n",
       "8 2019-09-16  51.90  52.290  51.700  52.20           52.20  13354600.0   \n",
       "9 2019-09-13  52.76  53.000  52.230  52.54           52.54  18010800.0   \n",
       "\n",
       "   dividend_amount  split_coefficient  \\\n",
       "0              0.0                1.0   \n",
       "1              0.0                1.0   \n",
       "2              0.0                1.0   \n",
       "3              0.0                1.0   \n",
       "4              0.0                1.0   \n",
       "5              0.0                1.0   \n",
       "6              0.0                1.0   \n",
       "7              0.0                1.0   \n",
       "8              0.0                1.0   \n",
       "9              0.0                1.0   \n",
       "\n",
       "                                             doc_loc  \n",
       "0                                                NaN  \n",
       "1  /media/Data/Programs/FinTech/data/documents/00...  \n",
       "2                                                NaN  \n",
       "3                                                NaN  \n",
       "4                                                NaN  \n",
       "5                                                NaN  \n",
       "6                                                NaN  \n",
       "7                                                NaN  \n",
       "8                                                NaN  \n",
       "9  /media/Data/Programs/FinTech/data/documents/00...  "
      ]
     },
     "execution_count": 126,
     "metadata": {},
     "output_type": "execute_result"
    }
   ],
   "source": [
    "df.head(10)"
   ]
  },
  {
   "cell_type": "markdown",
   "metadata": {},
   "source": [
    "Saving the updated merged DataFrame to disk as raw.csv."
   ]
  },
  {
   "cell_type": "code",
   "execution_count": 127,
   "metadata": {},
   "outputs": [],
   "source": [
    "# Saving modified dataframe to disk\n",
    "df.to_csv(os.path.join(path_to_data, 'raw_bytes.csv'), index=False)"
   ]
  },
  {
   "cell_type": "markdown",
   "metadata": {},
   "source": [
    "### Refactoring"
   ]
  },
  {
   "cell_type": "code",
   "execution_count": 5,
   "metadata": {},
   "outputs": [],
   "source": [
    "# Importing Libraries\n",
    "\n",
    "import pandas as pd\n",
    "\n",
    "# Use to prepare dataset as a time series\n",
    "def to_time_series(df, columns, n_trail=1, n_lead=1):\n",
    "    '''\n",
    "    :param df: DataFrame, dataframe object where the columns are the features and labels and the rows are days\n",
    "    :param columns: list of strings, names of the features and labels (columns of df) to be used in the time series\n",
    "    :param n_trail: int, number of days behind day 0 that will be used to predict days after day 0\n",
    "    :param n_lead: int, number of days ahead of day 0 that will be predicted\n",
    "    \n",
    "    ---> DataFrame, dataframe object structured like a time series where each row represents an element in the time\n",
    "                    series, and each column is a feature or label a certain amount of days in the future or past.\n",
    "    '''\n",
    "    df = df[columns]\n",
    "    dfs = []\n",
    "    col_names = []\n",
    "    \n",
    "    # Create trailing columns\n",
    "    for i in range(n_trail, 0, -1):\n",
    "        dfs.append(df.shift(-i))\n",
    "        col_names += [(col_name + '(t-{})'.format(i)) for col_name in columns]\n",
    "        \n",
    "    # Create leading columns\n",
    "    for i in range(0, n_lead+1):\n",
    "        dfs.append(df.shift(i))\n",
    "        col_names += [(col_name + '(t+{})'.format(i)) for col_name in columns]\n",
    "        \n",
    "    agg = pd.concat(dfs, axis=1)\n",
    "    agg.columns = col_names\n",
    "    \n",
    "    #agg.dropna(inplace=True)\n",
    "    \n",
    "    return agg\n",
    "    "
   ]
  },
  {
   "cell_type": "markdown",
   "metadata": {},
   "source": [
    "## Exploratory Data Analysis"
   ]
  },
  {
   "cell_type": "markdown",
   "metadata": {},
   "source": [
    "Before moving onto the modeling phase we will check and explore our data a bit. Just to get a feel for the data we are dealing with and ensure there is nothing deeply flawed with our data. Since we have two different types of data, we will inspect each type seperately"
   ]
  },
  {
   "cell_type": "code",
   "execution_count": 24,
   "metadata": {},
   "outputs": [],
   "source": [
    "# Importing Libraries\n",
    "\n",
    "import matplotlib.pyplot as plt"
   ]
  },
  {
   "cell_type": "markdown",
   "metadata": {},
   "source": [
    "### Pricing Data"
   ]
  },
  {
   "cell_type": "markdown",
   "metadata": {},
   "source": [
    "The first things we will check for our pricing data are a plot of the time series of our adjusted closing prices along with its distribution to check and see if there is anything unusual, and if the distribution conforms to our expectations of this type of data. We will then check these types of plots for other types of data."
   ]
  },
  {
   "cell_type": "markdown",
   "metadata": {},
   "source": [
    "Loading the dataframe with the pricing data."
   ]
  },
  {
   "cell_type": "code",
   "execution_count": 66,
   "metadata": {
    "scrolled": true
   },
   "outputs": [
    {
     "name": "stdout",
     "output_type": "stream",
     "text": [
      "<class 'pandas.core.frame.DataFrame'>\n",
      "RangeIndex: 5042 entries, 0 to 5041\n",
      "Data columns (total 10 columns):\n",
      "timestamp            5042 non-null datetime64[ns]\n",
      "open                 5042 non-null float64\n",
      "high                 5042 non-null float64\n",
      "low                  5042 non-null float64\n",
      "close                5042 non-null float64\n",
      "adjusted_close       5042 non-null float64\n",
      "volume               5042 non-null float64\n",
      "dividend_amount      5042 non-null float64\n",
      "split_coefficient    5042 non-null float64\n",
      "doc_loc              320 non-null object\n",
      "dtypes: datetime64[ns](1), float64(8), object(1)\n",
      "memory usage: 394.0+ KB\n"
     ]
    }
   ],
   "source": [
    "# Loading DataFrame from disk\n",
    "df = pd.read_csv(os.path.join(path_to_data, 'raw.csv'), parse_dates=['timestamp'])\n",
    "df.info()"
   ]
  },
  {
   "cell_type": "markdown",
   "metadata": {},
   "source": [
    "Checking some basic statistics of the dataset."
   ]
  },
  {
   "cell_type": "code",
   "execution_count": 67,
   "metadata": {},
   "outputs": [
    {
     "data": {
      "text/html": [
       "<div>\n",
       "<style scoped>\n",
       "    .dataframe tbody tr th:only-of-type {\n",
       "        vertical-align: middle;\n",
       "    }\n",
       "\n",
       "    .dataframe tbody tr th {\n",
       "        vertical-align: top;\n",
       "    }\n",
       "\n",
       "    .dataframe thead th {\n",
       "        text-align: right;\n",
       "    }\n",
       "</style>\n",
       "<table border=\"1\" class=\"dataframe\">\n",
       "  <thead>\n",
       "    <tr style=\"text-align: right;\">\n",
       "      <th></th>\n",
       "      <th>open</th>\n",
       "      <th>high</th>\n",
       "      <th>low</th>\n",
       "      <th>close</th>\n",
       "      <th>adjusted_close</th>\n",
       "      <th>volume</th>\n",
       "      <th>dividend_amount</th>\n",
       "      <th>split_coefficient</th>\n",
       "    </tr>\n",
       "  </thead>\n",
       "  <tbody>\n",
       "    <tr>\n",
       "      <td>count</td>\n",
       "      <td>5042.000000</td>\n",
       "      <td>5042.000000</td>\n",
       "      <td>5042.000000</td>\n",
       "      <td>5042.000000</td>\n",
       "      <td>5042.000000</td>\n",
       "      <td>5.042000e+03</td>\n",
       "      <td>5042.000000</td>\n",
       "      <td>5042.000000</td>\n",
       "    </tr>\n",
       "    <tr>\n",
       "      <td>mean</td>\n",
       "      <td>29.134800</td>\n",
       "      <td>29.525539</td>\n",
       "      <td>28.749346</td>\n",
       "      <td>29.131880</td>\n",
       "      <td>22.913637</td>\n",
       "      <td>4.967110e+07</td>\n",
       "      <td>0.002394</td>\n",
       "      <td>1.000198</td>\n",
       "    </tr>\n",
       "    <tr>\n",
       "      <td>std</td>\n",
       "      <td>11.218045</td>\n",
       "      <td>11.407489</td>\n",
       "      <td>11.043233</td>\n",
       "      <td>11.218809</td>\n",
       "      <td>10.939474</td>\n",
       "      <td>2.623932e+07</td>\n",
       "      <td>0.022499</td>\n",
       "      <td>0.014083</td>\n",
       "    </tr>\n",
       "    <tr>\n",
       "      <td>min</td>\n",
       "      <td>12.170000</td>\n",
       "      <td>12.630000</td>\n",
       "      <td>12.050000</td>\n",
       "      <td>12.080000</td>\n",
       "      <td>8.615100</td>\n",
       "      <td>1.155400e+06</td>\n",
       "      <td>0.000000</td>\n",
       "      <td>1.000000</td>\n",
       "    </tr>\n",
       "    <tr>\n",
       "      <td>25%</td>\n",
       "      <td>21.220000</td>\n",
       "      <td>21.450000</td>\n",
       "      <td>21.002225</td>\n",
       "      <td>21.210000</td>\n",
       "      <td>15.253350</td>\n",
       "      <td>2.966888e+07</td>\n",
       "      <td>0.000000</td>\n",
       "      <td>1.000000</td>\n",
       "    </tr>\n",
       "    <tr>\n",
       "      <td>50%</td>\n",
       "      <td>25.850000</td>\n",
       "      <td>26.140000</td>\n",
       "      <td>25.565000</td>\n",
       "      <td>25.880000</td>\n",
       "      <td>18.698900</td>\n",
       "      <td>4.708465e+07</td>\n",
       "      <td>0.000000</td>\n",
       "      <td>1.000000</td>\n",
       "    </tr>\n",
       "    <tr>\n",
       "      <td>75%</td>\n",
       "      <td>34.189500</td>\n",
       "      <td>34.540250</td>\n",
       "      <td>33.747500</td>\n",
       "      <td>34.197500</td>\n",
       "      <td>28.968700</td>\n",
       "      <td>6.309482e+07</td>\n",
       "      <td>0.000000</td>\n",
       "      <td>1.000000</td>\n",
       "    </tr>\n",
       "    <tr>\n",
       "      <td>max</td>\n",
       "      <td>75.625000</td>\n",
       "      <td>75.828000</td>\n",
       "      <td>73.625000</td>\n",
       "      <td>74.875000</td>\n",
       "      <td>58.069900</td>\n",
       "      <td>3.093476e+08</td>\n",
       "      <td>0.315000</td>\n",
       "      <td>2.000000</td>\n",
       "    </tr>\n",
       "  </tbody>\n",
       "</table>\n",
       "</div>"
      ],
      "text/plain": [
       "              open         high          low        close  adjusted_close  \\\n",
       "count  5042.000000  5042.000000  5042.000000  5042.000000     5042.000000   \n",
       "mean     29.134800    29.525539    28.749346    29.131880       22.913637   \n",
       "std      11.218045    11.407489    11.043233    11.218809       10.939474   \n",
       "min      12.170000    12.630000    12.050000    12.080000        8.615100   \n",
       "25%      21.220000    21.450000    21.002225    21.210000       15.253350   \n",
       "50%      25.850000    26.140000    25.565000    25.880000       18.698900   \n",
       "75%      34.189500    34.540250    33.747500    34.197500       28.968700   \n",
       "max      75.625000    75.828000    73.625000    74.875000       58.069900   \n",
       "\n",
       "             volume  dividend_amount  split_coefficient  \n",
       "count  5.042000e+03      5042.000000        5042.000000  \n",
       "mean   4.967110e+07         0.002394           1.000198  \n",
       "std    2.623932e+07         0.022499           0.014083  \n",
       "min    1.155400e+06         0.000000           1.000000  \n",
       "25%    2.966888e+07         0.000000           1.000000  \n",
       "50%    4.708465e+07         0.000000           1.000000  \n",
       "75%    6.309482e+07         0.000000           1.000000  \n",
       "max    3.093476e+08         0.315000           2.000000  "
      ]
     },
     "execution_count": 67,
     "metadata": {},
     "output_type": "execute_result"
    }
   ],
   "source": [
    "df.describe()"
   ]
  },
  {
   "cell_type": "code",
   "execution_count": 68,
   "metadata": {},
   "outputs": [
    {
     "data": {
      "image/png": "[encoded data removed]",
      "text/plain": [
       "<Figure size 432x288 with 1 Axes>"
      ]
     },
     "metadata": {
      "needs_background": "light"
     },
     "output_type": "display_data"
    }
   ],
   "source": [
    "# Plotting Adjusted Daily Closing Price with respect to time.\n",
    "days = list(range(len(df)))\n",
    "adj_close = df.sort_values(by='timestamp', ascending=True)['adjusted_close'].tolist()\n",
    "\n",
    "fig, ax = plt.subplots()\n",
    "ax.plot(days, adj_close)\n",
    "ax.set_title('Adjusted Daily Closing Price')\n",
    "ax.set_xlabel('Days')\n",
    "ax.set_ylabel('Adjusted Daily Closing Price')\n",
    "plt.show()"
   ]
  },
  {
   "cell_type": "markdown",
   "metadata": {},
   "source": [
    "It appears that after the company went IPO, the price of the stock climbed for about the first year, then crashed over the period of another year. Afterwards the price continued to fluctuated about an average value for about 5 years, then started slowly climbing again to the current price. There doesn't seem to be anything unusual about this behavior in my opinion."
   ]
  },
  {
   "cell_type": "code",
   "execution_count": 69,
   "metadata": {},
   "outputs": [
    {
     "data": {
      "image/png": "[encoded data removed]",
      "text/plain": [
       "<Figure size 432x288 with 1 Axes>"
      ]
     },
     "metadata": {
      "needs_background": "light"
     },
     "output_type": "display_data"
    }
   ],
   "source": [
    "# Plotting the distribution of Adjusted Daily Closing Prices\n",
    "fig, ax = plt.subplots()\n",
    "ax.hist(df['adjusted_close'].tolist(), bins=500)\n",
    "ax.set_title('Distribution of Adjusted Daily Closing Prices')\n",
    "ax.set_xlabel('Adjusted Daily Closing Prices')\n",
    "ax.set_ylabel('Counts')\n",
    "plt.show()"
   ]
  },
  {
   "cell_type": "markdown",
   "metadata": {},
   "source": [
    "The distribution of Adjusted Daily Closing Prices looks like it could be log-normal which is the distribution type that prices should approximately follow."
   ]
  },
  {
   "cell_type": "code",
   "execution_count": 70,
   "metadata": {},
   "outputs": [],
   "source": [
    "# Calculating the log adjusted closing prices, and log adjusted daily returns\n",
    "df['log_adj_close'] = np.log(df['adjusted_close'])\n",
    "df['log_adj_daily_returns'] = df['log_adj_close'].shift(1) - df['log_adj_close']\n",
    "df.dropna(subset=['log_adj_daily_returns'], inplace=True)"
   ]
  },
  {
   "cell_type": "markdown",
   "metadata": {},
   "source": [
    "We are calculating the log of Adjusted Daily Closing Price as well as the difference between the logs of Adjusted Daily Closing Price because if Adjusted Daily Closing Price is log-normal distributed, then the distributions of these values should be normally distributed. This is because the log of a log-normally distributed variable should be normally distributed, and the sum (or difference) of independently normally distributed variables should also be normally distributed. (We are assuming each Adjusted Daily Closing Price is independently distributed from others, which is approximately true.)"
   ]
  },
  {
   "cell_type": "code",
   "execution_count": 71,
   "metadata": {},
   "outputs": [
    {
     "data": {
      "image/png": "[encoded data removed]",
      "text/plain": [
       "<Figure size 432x288 with 1 Axes>"
      ]
     },
     "metadata": {
      "needs_background": "light"
     },
     "output_type": "display_data"
    }
   ],
   "source": [
    "# Plotting the distribution of Log Adjusted Daily Closing Price\n",
    "fig, ax = plt.subplots()\n",
    "ax.hist(df['log_adj_close'].tolist(), bins=500)\n",
    "ax.set_title('Distribution of Log Adjusted Daily Closing Price')\n",
    "ax.set_xlabel('Log Adjusted Daily Closing Price')\n",
    "ax.set_ylabel('Counts')\n",
    "plt.show()"
   ]
  },
  {
   "cell_type": "code",
   "execution_count": 72,
   "metadata": {},
   "outputs": [
    {
     "data": {
      "image/png": "[encoded data removed]",
      "text/plain": [
       "<Figure size 432x288 with 1 Axes>"
      ]
     },
     "metadata": {
      "needs_background": "light"
     },
     "output_type": "display_data"
    }
   ],
   "source": [
    "# Plotting the distribution of Log Adjusted Daily Returns\n",
    "fig, ax = plt.subplots()\n",
    "ax.hist(df['log_adj_daily_returns'].tolist(), bins=500)\n",
    "ax.set_title('Distribution of Log Adjusted Daily Returns')\n",
    "ax.set_xlabel('Log Adjusted Daily Returns')\n",
    "ax.set_ylabel('Counts')\n",
    "plt.show()"
   ]
  },
  {
   "cell_type": "markdown",
   "metadata": {},
   "source": [
    "Although the distribution of log Adjusted Daily Closing Price doesn't appear to be too normal, the distribution of Log Adjusted Daily Returns appears to visually fit a normal distribution well. Therefore we are probably safe in make our assumptions about log-normal prices, and independently distributed prices."
   ]
  },
  {
   "cell_type": "code",
   "execution_count": 73,
   "metadata": {
    "scrolled": true
   },
   "outputs": [
    {
     "data": {
      "image/png": "[encoded data removed]",
      "text/plain": [
       "<Figure size 432x288 with 1 Axes>"
      ]
     },
     "metadata": {
      "needs_background": "light"
     },
     "output_type": "display_data"
    }
   ],
   "source": [
    "# Plotting Adjusted Daily Returns with respect to time\n",
    "days = list(range(len(df)))\n",
    "log_adj_close = df.sort_values(by='timestamp', ascending=True)['log_adj_close'].tolist()\n",
    "\n",
    "fig, ax = plt.subplots()\n",
    "ax.plot(days, log_adj_close)\n",
    "ax.set_title('Log Adjusted Daily Closing Price')\n",
    "ax.set_xlabel('Days')\n",
    "ax.set_ylabel('Log Adjusted Daily Closing Price')\n",
    "plt.show()"
   ]
  },
  {
   "cell_type": "code",
   "execution_count": 74,
   "metadata": {
    "scrolled": true
   },
   "outputs": [
    {
     "data": {
      "image/png": "[encoded data removed]",
      "text/plain": [
       "<Figure size 432x288 with 1 Axes>"
      ]
     },
     "metadata": {
      "needs_background": "light"
     },
     "output_type": "display_data"
    }
   ],
   "source": [
    "# Plotting Adjusted Daily Returns with respect to time\n",
    "days = list(range(len(df)))\n",
    "log_adj_daily_returns = df.sort_values(by='timestamp', ascending=True)['log_adj_daily_returns'].tolist()\n",
    "\n",
    "fig, ax = plt.subplots()\n",
    "ax.plot(days, log_adj_daily_returns)\n",
    "ax.set_title('Log Adjusted Daily Returns')\n",
    "ax.set_xlabel('Days')\n",
    "ax.set_ylabel('Log Adjusted Daily Returns')\n",
    "plt.show()"
   ]
  },
  {
   "cell_type": "markdown",
   "metadata": {},
   "source": [
    "The time series of log Adjusted Daily Closing Price appears similar to the time series of Adjusted Daily Closing Price. This is as expected and not unusual because we are just taking a log a variable and thus the overall shape of the graph should not be affected. On the other hand the time series of log Adjusted Daily Returns appears to fluctuate about zero where the magnitude of the fluctuation does not change too much except for at a few pivitol days. This makes sense with respect to its Gaussian distribution, because the Gaussian distribution alots small probabilities to large magnitudes of log Adjusted Daily Return which means there should not be too many days where we see a huge value for log Adjusted Daily Return."
   ]
  },
  {
   "cell_type": "markdown",
   "metadata": {},
   "source": [
    "### Text Data"
   ]
  },
  {
   "cell_type": "markdown",
   "metadata": {},
   "source": [
    "The first thing we will check are the lengths of our raw documents."
   ]
  },
  {
   "cell_type": "code",
   "execution_count": 63,
   "metadata": {},
   "outputs": [],
   "source": [
    "# Path to Intel's 8-K forms\n",
    "intel_docs_path = os.path.join(path_to_docs, CIK)"
   ]
  },
  {
   "cell_type": "code",
   "execution_count": 64,
   "metadata": {},
   "outputs": [],
   "source": [
    "# Constructing doc_lengths: a list of lengths of Intel's 8-K forms before they are normalized\n",
    "doc_lengths_paths_dict = {}\n",
    "\n",
    "for doc_name in os.listdir(intel_docs_path):\n",
    "    doc_path = os.path.join(intel_docs_path, doc_name)\n",
    "    with open(doc_path, 'r') as f:\n",
    "        raw_doc_text = f.read()\n",
    "    doc_lengths_paths_dict[len(raw_doc_text)] = doc_path"
   ]
  },
  {
   "cell_type": "code",
   "execution_count": 65,
   "metadata": {},
   "outputs": [
    {
     "name": "stdout",
     "output_type": "stream",
     "text": [
      "Largest document has: 75072520 charcters\n",
      "Smallest document has: 4638 charcters\n"
     ]
    }
   ],
   "source": [
    "print(\"Largest document has: {} charcters\".format(max(doc_lengths_paths_dict.keys())))\n",
    "print(\"Smallest document has: {} charcters\".format(min(doc_lengths_paths_dict.keys())))\n",
    "largest_doc_path = doc_lengths_paths_dict[max(doc_lengths_paths_dict.keys())]\n",
    "smallest_doc_path = doc_lengths_paths_dict[min(doc_lengths_paths_dict.keys())]"
   ]
  },
  {
   "cell_type": "code",
   "execution_count": 66,
   "metadata": {},
   "outputs": [
    {
     "data": {
      "image/png": "[encoded data removed]",
      "text/plain": [
       "<Figure size 432x288 with 1 Axes>"
      ]
     },
     "metadata": {
      "needs_background": "light"
     },
     "output_type": "display_data"
    }
   ],
   "source": [
    "fig, ax = plt.subplots()\n",
    "ax.hist(doc_lengths_paths_dict.keys(), bins=50)\n",
    "ax.set_title('Document Lengths Histogram')\n",
    "ax.set_xlabel('Length of Document')\n",
    "ax.set_ylabel('Counts')\n",
    "plt.show()"
   ]
  },
  {
   "cell_type": "code",
   "execution_count": 67,
   "metadata": {},
   "outputs": [
    {
     "data": {
      "image/png": "[encoded data removed]",
      "text/plain": [
       "<Figure size 432x288 with 1 Axes>"
      ]
     },
     "metadata": {
      "needs_background": "light"
     },
     "output_type": "display_data"
    }
   ],
   "source": [
    "fig, ax = plt.subplots()\n",
    "ax.hist(doc_lengths_paths_dict.keys(), bins=50, log=True)\n",
    "ax.set_title('Document Lengths Histogram Log Scale')\n",
    "ax.set_xlabel('Length of Document')\n",
    "ax.set_ylabel('Log Counts')\n",
    "plt.show()"
   ]
  },
  {
   "cell_type": "markdown",
   "metadata": {},
   "source": [
    "From the above histograms, it appears very few of our documents contain over 30 million characters. Most of our documents seem to have 10 million characters or less with a large emphasize on documents with less than 1 million characters. Since a single characters is about 1 byte in memory, our largest document should be about 75 MB. Therefore we should expect all of our documents to be able to fit into our RAM of 32 GB"
   ]
  },
  {
   "cell_type": "markdown",
   "metadata": {},
   "source": [
    "#### Text Preprocessing"
   ]
  },
  {
   "cell_type": "markdown",
   "metadata": {},
   "source": [
    "To preprocess our text data, we will first strip it of its x/html tags if the data is encoded this way. Next we will un accent its accented characters, lower case the entire document, and replace all newline/carriage returns with spaces. Next we will strip it of its characters that are not alphanumeric, periods, dollar symbols, or percent symbols. Afterwards we will reduce all words to their dictionary lemmas, and strip the document of its stop words (see stop word list for spacy en_cor_web_sm model). Finally we will replace all whitespace characters with regular space characters."
   ]
  },
  {
   "cell_type": "markdown",
   "metadata": {},
   "source": [
    "The structure of our 8-K filing document involves an xml SEC document header packed with metadata about the filing, and one or multiple xml `<DOCUMENT>` tags. These `<DOCUMENT>` tags contain different types of data that are bundled up into the complete submission for the 8-K filing. The data types stored in these `<DOCUMENT>` tags can range from everything including: regular text data such as html, to binary blob data such as jpg images and pdfs. The structure of these `<DOCUMENT>` tags involve a few meta data tags, none of which involve specifying the encoding type of the data that `<DOCUMENT>` tag stores, and a `<TEXT>` tag that stores the actual data."
   ]
  },
  {
   "cell_type": "markdown",
   "metadata": {},
   "source": [
    "Since the inclusion of binary blobs in the markdown prevents easy parsing of the filing structure with lxml, we will result to python re statements to extract the relevant `<DOCUMENT>` tags. Though because the meta data tags enclosed in a `<DOCUMENT>` tag do not specify the encoding type of the data enclosed in the `<TEXT>` tag, there does not appear to be an easy quick general solution that extracts the text data `<DOCUMENT>` tags and avoids the binary blob like `<DOCUMENT>` tags. Because of the above issues we will have to suffice ourselves with extracting only the `<DOCUMENT>` tag that contain's the meta data open tag `<TYPE>8-K`. This specific `<DOCUMENT>` tag always contains text data, and represents the data that is used to generate the SEC 8-K form containing the information that is mandated by the SEC, and excluding the exhibit information that is not mandated by the SEC and is given by the company's discretion. Since this `<DOCUMENT>` tag contains all the mandated information by the SEC for a given 8-K filing, we are still extracting the important information bundled in the filing even though we are not extracting all of the textual information."
   ]
  },
  {
   "cell_type": "code",
   "execution_count": 82,
   "metadata": {
    "scrolled": false
   },
   "outputs": [],
   "source": [
    "# Importing Libraries\n",
    "\n",
    "import re\n",
    "import lxml\n",
    "import unicodedata\n",
    "import en_core_web_sm\n",
    "from bs4 import BeautifulSoup\n",
    "\n",
    "nlp = en_core_web_sm.load(disable=['parser', 'ner'])\n",
    "#nlp.max_length = 400000000\n",
    "\n",
    "def extract_8k(doc):\n",
    "    eight_k = re.findall('<DOCUMENT>\\n<TYPE>8-K.*?</DOCUMENT>', doc, re.DOTALL | re.IGNORECASE)\n",
    "    return eight_k\n",
    "\n",
    "def extract_html(doc):\n",
    "    html = re.findall('<HTML(?:>| .*?>).*?</HTML>', doc, re.DOTALL | re.IGNORECASE)\n",
    "    return html\n",
    "\n",
    "def strip_tags(doc):\n",
    "    # extracting 8-K <DOCUMENT> tag from the filing\n",
    "    eight_k = extract_8k(doc)\n",
    "    assert len(eight_k) == 1, 'Check re for 8-K extraction, either multiple 8-K DOCUMENT tags or bad re'\n",
    "    \n",
    "    # extracting <html> tag if any\n",
    "    html = extract_html(eight_k[0])\n",
    "    assert 0 <= len(html) <= 1, 'Check re for extracting html tags'\n",
    "    \n",
    "    # if html exists\n",
    "    if len(html) == 1:\n",
    "        html = html[0]\n",
    "        soup = BeautifulSoup(html, 'lxml')\n",
    "        stripped = soup.get_text()\n",
    "    else:\n",
    "        soup = BeautifulSoup(eight_k[0], 'xml')\n",
    "        stripped = soup.find('TEXT').get_text()\n",
    "    \n",
    "    return stripped\n",
    "\n",
    "def strip_accented_chars(doc):\n",
    "    doc = unicodedata.normalize('NFKD', doc).encode('ascii', 'ignore').decode('utf-8', 'ignore')\n",
    "    return doc\n",
    "\n",
    "def strip_special_chars(doc):\n",
    "    doc = re.sub('[^$A-Za-z0-9%.\\s\\']', '', doc)\n",
    "    return doc\n",
    "\n",
    "def lemmatize(doc):\n",
    "    document = nlp(doc)\n",
    "    doc = ' '.join([word.lemma_ if word.lemma_ != '-PRON-' else word.text for word in document])\n",
    "    return doc\n",
    "\n",
    "def strip_stop_words(doc):\n",
    "    document = nlp(doc)\n",
    "    doc = ' '.join([word.text for word in document if not word.is_stop])\n",
    "    return doc\n",
    "    \n",
    "def normalize_document(doc, tags_strip=True, accent_char_strip=True, lower_case=True,\n",
    "                       no_newlines=True, special_char_strip=True, lemmatize_words=True,\n",
    "                       remove_stop_words=True, strip_extra_spaces=True, debug=False):\n",
    "    '''\n",
    "    Preprocesses the document :param doc: and returns the normalized document.\n",
    "    \n",
    "    :param doc: string, document to normalize\n",
    "    :param xml_strip: bool, set to True to strip the xml tags\n",
    "    :param accent_char_strip: bool, set to True to replace accented characters with their non accented versions\n",
    "    :param lower_case: bool, set to True to lower case the document.\n",
    "    :param no_newlines: bool, set to True to remove all newlines characters and replace them with spaces\n",
    "    :param special_char_strip: bool, set to True to remove all characters that are \n",
    "                                     not letters, numbers, $, ., %, or spaces\n",
    "    :param lemmatize_words: bool, set to True to map each word to its lemma\n",
    "    :param remove_stop_words: bool, set to True to remove stop words\n",
    "    :param strip_extra_spaces: bool, set to True to replace multiple spaces with one\n",
    "    \n",
    "    ---> string, normalized document\n",
    "    '''\n",
    "    if debug:\n",
    "        print('raw length of doc: {}'.format(len(doc)))\n",
    "        \n",
    "    # stripping tags\n",
    "    if tags_strip:\n",
    "        doc = strip_tags(doc)\n",
    "    if debug:\n",
    "        print('stripped tag length: {}'.format(len(doc)))\n",
    "    \n",
    "    # stripping accented characters\n",
    "    if accent_char_strip:\n",
    "        doc = strip_accented_chars(doc)\n",
    "    if debug:\n",
    "        print('altered accents length: {}'.format(len(doc)))\n",
    "        \n",
    "    # lower casing the document\n",
    "    if lower_case:\n",
    "        doc = doc.lower()\n",
    "    if debug:\n",
    "        print('lower casing length: {}'.format(len(doc)))\n",
    "    \n",
    "    # removing new lines and carriage returns and replacing them with spaces\n",
    "    if no_newlines:\n",
    "        doc = re.sub(r'[\\r|\\n|\\r\\n]+', ' ', doc)\n",
    "    if debug:\n",
    "        print('removing newlines length: {}'.format(len(doc)))\n",
    "    \n",
    "    # removing special characters\n",
    "    if special_char_strip:\n",
    "        doc = strip_special_chars(doc)\n",
    "    if debug:\n",
    "        print('strip special char length: {}'.format(len(doc)))\n",
    "    \n",
    "    # lemmatizing the words\n",
    "    if lemmatize_words:\n",
    "        doc = lemmatize(doc)\n",
    "    if debug:\n",
    "        print('lemmatized doc length: {}'.format(len(doc)))\n",
    "    \n",
    "    # stripping stop words\n",
    "    if remove_stop_words:\n",
    "        doc = strip_stop_words(doc)\n",
    "    if debug:\n",
    "        print('removed stop word length: {}'.format(len(doc)))\n",
    "    \n",
    "    # removing extra whitespace\n",
    "    if strip_extra_spaces:\n",
    "        doc = re.sub(' +', ' ', doc)\n",
    "    if debug:\n",
    "        print('removed extra space length: {}'.format(len(doc)))\n",
    "    \n",
    "    return doc"
   ]
  },
  {
   "cell_type": "markdown",
   "metadata": {},
   "source": [
    "The first thing we will need to confirm is if the re's we constructed for extracting a documents 8-K component, and the html tag (if they exist) works/still works. For the time being the data we will use from each document will only be the text embedded in the 8-K component of the document."
   ]
  },
  {
   "cell_type": "code",
   "execution_count": 69,
   "metadata": {},
   "outputs": [
    {
     "name": "stdout",
     "output_type": "stream",
     "text": [
      "The re in extract_8k seems to checkout.\n"
     ]
    }
   ],
   "source": [
    "# Checking the extract_8k function\n",
    "checksout = True\n",
    "for doc_name in os.listdir(intel_docs_path):\n",
    "    doc_path = os.path.join(intel_docs_path, doc_name)\n",
    "    with open(doc_path, 'r') as f:\n",
    "        raw_doc_text = f.read()\n",
    "    num_of_8k = len(extract_8k(raw_doc_text))\n",
    "    if num_of_8k != 1:\n",
    "        checksout = False\n",
    "        print('Filing: {0}, contains: {1} 8-K portions, check re of extract_8k, and document.'.format(doc_path, num_of_8k))\n",
    "\n",
    "if checksout:\n",
    "    print('The re in extract_8k seems to checkout.')"
   ]
  },
  {
   "cell_type": "code",
   "execution_count": 70,
   "metadata": {},
   "outputs": [
    {
     "name": "stdout",
     "output_type": "stream",
     "text": [
      "The re in extract_html seems to checkout.\n"
     ]
    }
   ],
   "source": [
    "# Checking the extract_html function\n",
    "checksout = True\n",
    "for doc_name in os.listdir(intel_docs_path):\n",
    "    doc_path = os.path.join(intel_docs_path, doc_name)\n",
    "    with open(doc_path, 'r') as f:\n",
    "        raw_doc_text = f.read()\n",
    "    eight_k = extract_8k(raw_doc_text)[0]\n",
    "    num_html_tags = len(extract_html(eight_k))\n",
    "    if not (0 <= num_html_tags <= 1):\n",
    "        checksout = False\n",
    "        print('Filing: {0}, contains: {1} html tags, check re of extract_html, and document.'.format(doc_path, num_html_tags))\n",
    "\n",
    "if checksout:\n",
    "    print('The re in extract_html seems to checkout.')"
   ]
  },
  {
   "cell_type": "markdown",
   "metadata": {},
   "source": [
    "In each 8-K filing there should be only one `<DOCUMENT>...</DOCUMENT>` tag that contains a:`<TYPE>8-K` tag. There should also be ONLY one `<html ...>...</html>` tag if the document tag contains an html tag. The above cells verify if any of these conditions are violated on the current dataset."
   ]
  },
  {
   "cell_type": "markdown",
   "metadata": {},
   "source": [
    "The next thing we will investigate are the lengths of our normalized texts."
   ]
  },
  {
   "cell_type": "code",
   "execution_count": 71,
   "metadata": {},
   "outputs": [],
   "source": [
    "# Constructing norm_doc_lengths: a list of lengths of Intel's 8-K forms after they are normalized\n",
    "norm_doc_lengths_paths_dict = {}\n",
    "\n",
    "for doc_name in os.listdir(intel_docs_path):\n",
    "    doc_path = os.path.join(intel_docs_path, doc_name)\n",
    "    with open(doc_path, 'r') as f:\n",
    "        raw_doc_text = f.read()\n",
    "    norm_doc = normalize_document(raw_doc_text)\n",
    "    norm_doc_lengths_paths_dict[len(norm_doc)] = doc_path"
   ]
  },
  {
   "cell_type": "code",
   "execution_count": 72,
   "metadata": {},
   "outputs": [
    {
     "name": "stdout",
     "output_type": "stream",
     "text": [
      "Largest document has: 45788 charcters\n",
      "Smallest document has: 1120 charcters\n"
     ]
    }
   ],
   "source": [
    "print(\"Largest document has: {} charcters\".format(max(norm_doc_lengths_paths_dict.keys())))\n",
    "print(\"Smallest document has: {} charcters\".format(min(norm_doc_lengths_paths_dict.keys())))\n",
    "largest_norm_doc_path = norm_doc_lengths_paths_dict[max(norm_doc_lengths_paths_dict.keys())]\n",
    "smallest_norm_doc_path = norm_doc_lengths_paths_dict[min(norm_doc_lengths_paths_dict.keys())]"
   ]
  },
  {
   "cell_type": "code",
   "execution_count": 74,
   "metadata": {},
   "outputs": [
    {
     "data": {
      "image/png": "[encoded data removed]",
      "text/plain": [
       "<Figure size 432x288 with 1 Axes>"
      ]
     },
     "metadata": {
      "needs_background": "light"
     },
     "output_type": "display_data"
    }
   ],
   "source": [
    "fig, ax = plt.subplots()\n",
    "ax.hist(norm_doc_lengths_paths_dict.keys(), bins=50)\n",
    "ax.set_title('Normalized Document Lengths Histogram')\n",
    "ax.set_xlabel('Length of Document')\n",
    "ax.set_ylabel('Counts')\n",
    "plt.show()"
   ]
  },
  {
   "cell_type": "code",
   "execution_count": 75,
   "metadata": {},
   "outputs": [
    {
     "data": {
      "image/png": "[encoded data removed]",
      "text/plain": [
       "<Figure size 432x288 with 1 Axes>"
      ]
     },
     "metadata": {
      "needs_background": "light"
     },
     "output_type": "display_data"
    }
   ],
   "source": [
    "fig, ax = plt.subplots()\n",
    "ax.hist(norm_doc_lengths_paths_dict.keys(), bins=50, log=True)\n",
    "ax.set_title('Normalized Document Lengths Histogram Log Scale')\n",
    "ax.set_xlabel('Length of Document')\n",
    "ax.set_ylabel('Log Counts')\n",
    "plt.show()"
   ]
  },
  {
   "cell_type": "markdown",
   "metadata": {
    "scrolled": true
   },
   "source": [
    "Nothing seems to stand out in these histograms so far. The next things we will check are the documents that correspond to the extremums of our histograms just to see if anything stands out about these normalized documents."
   ]
  },
  {
   "cell_type": "code",
   "execution_count": 76,
   "metadata": {},
   "outputs": [
    {
     "name": "stdout",
     "output_type": "stream",
     "text": [
      "raw length of doc: 82403\n",
      "stripped tag length: 80448\n",
      "altered accents length: 80448\n",
      "lower casing length: 80448\n",
      "removing newlines length: 80204\n",
      "strip special char length: 78968\n",
      "lemmatized doc length: 80921\n",
      "removed stop word length: 60382\n",
      "removed extra space length: 45788\n",
      "\n",
      " united state security exchange commission washington d.c . 20549 form 8k current report pursuant section 13 15d security exchange act 1934 date report november 10 2004 date early event report intel corporation exact registrant specify charter delaware 006217 941672743 state commission file irs employer incorporation number identification . 2200 mission college blvd . santa clara 950528119 address principal executive office zip code 408 7658080 registrant telephone number include area code check appropriate box form 8k filing intend simultaneously satisfy filing obligation registrant follow provision write communication pursuant rule 425 security act 17 cfr 230.425 solicit material pursuant rule 14a12 exchange act 17 cfr 240.14a12 precommencement communication pursuant rule 14d2b exchange act 17 cfr 240.14d2b precommencement communication pursuant rule 13e4c exchange act 17 cfr 240.13e4c item departure director principal officer 5.02 election director appointment principal officer b change director principal officer position november 10 2004 andrew s. grove inform board director intel corporation company retire position chairman board company annual meeting stockholder 2005 stand reelection director . addition accordance november 10 2004 board action discuss dr . craig r. barrett longer chief executive officer company paul s. otellini longer chief operate officer company company annual meeting stockholder 2005 . company press release attach hereto exhibit 99.1 incorporate reference . c appointment principal officer november 10 2004 company board director elect paul s. otellini president chief executive officer company effective company annual meeting stockholder 2005 . mr . otellini age 54 director intel intel president chief operate officer 2002 . mr . otellini join intel 1974 hold number position include general manager intel peripheral component operation folsom microcomputer division . 1990 mr . otellini general manager microprocessor product group lead introduction intelr pentiumr processor . elect corporate officer 1991 senior vice president 1993 executive vice president 1996 . 1996 2002 mr . otellini serve general manager sale marketing group intel architecture group . november 10 2004 company board director elect dr . craig r. barrett chairman board effective company annual meeting stockholder 2005 . dr . barrett age 65 chief executive officer 1998 director intel 1992 . dr . barrett join intel 1974 . 1984 vice president 1985 vice president general manager component technology manufacturing group . dr . barrett senior vice president 1987 general manager microcomputer component group 1989 . executive vice president 1990 1997 chief operate officer 1993 1997 president 1997 2002 . company press release attach hereto exhibit 99.1 incorporate reference . item amendment article incorporation bylaw 5.03 change fiscal year november 10 2004 board director approve resolution effective immediately amend company bylaw delete entirety article iii section 10 provide board director ability elect emeritus director . item financial statement exhibit 9.01 c exhibit follow exhibit file report exhibit number description 3.1 intel corporation bylaw amend november 10 2004 99.1 press release signature pursuant requirement security exchange act 1934 registrant duly cause report sign behalf undersigned hereunto duly authorize . date november 15 2004 intel corporation registrant s patrice c. scatena patrice c. scatena assistant secretary exhibit 3.1 intel corporation bylaw article office section 1 . register office . registered office corporation state delaware shall city wilmington county new castle . section 2 . office . corporation shall maintain office principal place business 2200 mission college boulevard santa clara county santa clara state california office place state delaware board director time time determine business corporation require . article ii stockholder ' meeting section 1 . place meeting . meeting stockholder corporation shall hold place state delaware designate time time board director designate office corporation require maintain pursuant section 2 article hereof . b board director sole discretion determine stockholder meeting shall hold place instead hold solely mean remote communication accordance section 211a2 delaware general corporation law . authorize board director sole discretion subject guideline procedure board director adopt stockholder proxy holder physically present meeting stockholder mean remote communication participate meeting stockholder b deem present person vote meeting stockholder meeting hold designate place solely mean remote communication provide corporation shall implement reasonable measure verify person deem present permit vote meeting mean remote communication stockholder proxyholder ii corporation shall implement reasonable measure provide stockholder proxy holder reasonable opportunity participate meeting vote matter submit stockholder include opportunity read hear proceeding meeting substantially concurrently proceeding iii stockholder proxyholder vote action meeting mean remote communication record vote action shall maintain corporation . section 2 . annual meeting . annual meeting stockholder corporation purpose election director business lawfully come shall hold date time designate time time board director event 15 month date precede annual meeting . section 3 . special meeting . special meeting stockholder corporation purpose purpose chairman board chief executive officer board director time . section 4 . notice meeting . provide law certificate incorporation write notice term write define article xii hereof meeting stockholder specify place date hour meeting mean remote communication stockholder proxy holder deem present person vote meeting purpose purpose meeting shall 10 60 day date meeting stockholder entitle vote thereat direct stockholder accordance procedure set forth article x hereof . notice shall deem stockholder record share address notice accordance householding rule set forth rule 14a3e security exchange act 1934 amend exchange act . b meeting action propose entitle stockholder fulfil requirement section 262d delaware general corporation law appraisal fair value share notice meeting shall contain statement purpose effect shall accompany copy statutory section . c meeting adjourn time place notice nee adjourn meeting time place thereof mean remote communication stockholder proxy holder deem present person vote meeting announce meeting adjournment adjournment thirty day adjournment new record date fix adjourn meeting event notice adjourn meeting shall stockholder record entitle vote meeting . d notice time place purpose meeting stockholder waive write meeting extent permit law waive stockholder attendance thereat person proxy . stockholder waive notice meeting shall bind proceeding meeting respect notice thereof . e vote proxy shall revocable pleasure person execute legal representative assign case irrevocable proxy permit statute . section 5 . quorum voting . meeting stockholder provide law certificate incorporation bylaw presence person proxy duly authorize holder majority outstanding share stock entitle vote shall constitute quorum transaction business . share voting meeting enjoin reason lawfully vote meeting shall count determine quorum meeting . absence quorum meeting stockholder adjourn time time vote holder majority share represented thereat business shall transact meeting . adjourn meeting quorum present represent business transact transact original meeting . stockholder present duly convene meeting quorum present continue transact business adjournment notwithstanding withdrawal stockholder leave quorum . b provide law certificate incorporation bylaw action holder majority voting power represent meeting quorum present shall valid bind corporation . section 6 . voting right . provide law person share entitle vote stand stock record corporation record date determine stockholder entitle vote meeting shall entitle vote meeting . share stand 2 person shall vote represent accordance determination majority person 1 person present person represent proxy person shall right vote share share shall deem represent purpose determine quorum . b person entitle vote execute consent shall right person agent agent authorize write proxy execute person duly authorize agent proxy shall file secretary corporation meeting use . proxy appoint need stockholder . proxy shall vote 3 year date proxy provide long period . section 7 . list stockholder . officer charge stock ledger corporation shall prepare 10 day meeting stockholder complete list stockholder entitle vote meeting arrange alphabetical order address number share register stockholder . contain section 219 delaware general corporation law shall require corporation include electronic mail address electronic contact information list . list shall open examination stockholder purpose germane meeting period 10 day prior meeting reasonably accessible electronic network provide information require gain access list provide notice meeting b ordinary business hour principal place business corporation . event corporation determine list available electronic network corporation reasonable step ensure information available stockholder corporation . meeting hold place list shall produce time place meeting time thereof inspect stockholder present . meeting hold solely mean remote communication list shall open examination stockholder time meeting reasonably accessible electronic network information require access list shall provide notice meeting . section 8 . nomination stockholder business . nomination person election board director corporation proposal business consider stockholder annual meeting stockholder pursuant corporation notice meeting b direction board director c stockholder corporation stockholder record time giving notice provide section entitle vote meeting comply notice procedure set forth section . b nomination business properly bring annual meeting stockholder pursuant section stockholder timely notice thereof write secretary corporation business proper subject stockholder action delaware general corporation law . timely stockholder notice shall deliver secretary principal executive office corporation deliver electronic mail facsimile stockholder notice shall direct secretary electronic mail address facsimile number case specify company recent proxy statement fortyfive 45 day 120 day prior date corporation mail proxy material prior year annual meeting stockholder provide event date annual meeting advance thirty 30 day delay result adjournment thirty 30 day anniversary previous year annual meeting notice stockholder timely deliver later close business later sixtieth 60th day prior annual meeting tenth 10th day follow day public announcement date meeting . stockholder notice shall set forth person stockholder propose nominate election reelection director information relate person require disclose solicitation proxy election director require case pursuant regulation 14a exchange act include person write consent proxy statement nominee serve director elect b business stockholder propose bring meeting brief description business desire bring meet reason conduct business meeting material interest business stockholder beneficial owner behalf proposal c stockholder notice beneficial owner behalf nomination proposal address stockholder appear corporation book beneficial owner ii class number share corporation beneficially record stockholder beneficial owner . c notwithstanding section contrary event number director elect board director corporation increase public announcement specify size increase board director corporation seventy 70 day prior anniversary precede year annual meeting stockholder notice require section shall consider timely respect nominee new position create increase shall deliver secretary principal executive office corporation later close business tenth 10th day follow day public announcement corporation . d business shall conduct special meeting stockholder shall bring meeting pursuant corporation notice meeting . nomination person election board director special meeting stockholder director elect pursuant corporation notice meet direction board director b stockholder corporation stockholder record time giving notice provide section entitle vote meeting comply notice procedure set forth section . nomination stockholder person election board director special meeting stockholder stockholder notice require section shall deliver secretary principal executive office corporation deliver electronic mail facsimile stockholder notice shall direct secretary electronic mail address facsimile number case specify company recent proxy statement earlier twentieth 120th day prior special meeting later close business later sixtieth 60th day prior special meeting tenth 10th day follow day public announcement date special meeting nominee propose board director elect meeting . e person nominate accordance procedure set forth section shall eligible election director meeting stockholder . business shall conduct meeting stockholder shall bring meeting accordance procedure set forth section . chairman meeting shall power duty determine nomination business propose bring meeting accordance procedure set forth section propose nomination business compliance section declare defective proposal shall disregard . f purpose section public announcement shall mean disclosure press release report dow jone news service associate press comparable national news service document publicly file corporation security exchange commission pursuant section 9 13 14 15d exchange act . g notwithstanding forego provision section stockholder shall comply applicable requirement exchange act rule regulation thereunder respect matter set forth section . section shall deem affect right stockholder request inclusion proposal corporation proxy statement pursuant rule 14a8 exchange act . article iii director section 1 . number term office . number director shall constitute board director shall 11 . exception board director shall elect incorporator provide section 3 article iii director shall elect plurality vote share represent person proxy stockholder annual meeting year entitle vote election director . elect director shall hold office annual meeting successor shall duly elect qualified . director need stockholder . cause board director shall elect annual meeting elect soon convenient special meeting stockholder purpose manner provide bylaw . section 2 . power . power corporation shall exercise business conduct property control direction board director . section 3 . vacancy . vacancy newly create directorship result increase authorize number director fill majority director office quorum sole remain director director elect shall hold office unexpire portion term director place shall vacant successor shall duly elect qualified . vacancy board director shall deem exist section case death removal resignation director stockholder fail meeting stockholder director elect include meeting refer section 4 elect number director constitute board . section 4 . resignation removal . director resign time deliver write resignation secretary resignation specify effective particular time receipt secretary pleasure board director . specification shall deem effective pleasure board director . 1 director shall resign board effective future date majority director office include resign shall power fill vacancy vacancie vote thereon effect resignation resignation shall effective director choose shall hold office unexpired portion term director place shall vacate successor shall duly elect qualified . b provide section 141 delaware general corporation law special meeting stockholder purpose manner hereinabove provide board director individual director remove office cause new director director elect vote stockholder hold majority outstanding share entitle vote election director . section 5 . meeting . hereinafter provide regular meeting board director shall hold office corporation require maintain pursuant section 2 article hereof . regular meeting board director hold place state delaware designate resolution board director write consent director . notice regular meeting director dispense notice meeting nee . b special meeting board director hold time place state delaware chairman board chief executive officer director director . c write notice time place special meeting board director shall deliver director twentyfour 24 hour start meeting send class mail seventytwo 72 hour start meeting . notice meeting waive write time meeting waive director attendance thereat . section 6 . quorum voting . quorum board director shall consist majority exact number director fix time time accordance section 1 article iii bylaw 1 provide meet quorum present majority director present adjourn time time time fix regular meeting board director notice announcement meeting . b meeting board quorum present question business shall determine vote majority director present different vote require law certificate incorporation bylaw . c member board director committee thereof participate meeting mean conference telephone communication equipment mean person participate meeting hear participation meeting mean shall constitute presence person meeting . d transaction meeting board director committee thereof notice hold shall valid meeting duly hold regular notice quorum present meeting director present shall deliver corporation write waiver notice consent hold meeting approval minute thereof . waiver consent approval shall file corporate record minute meeting . section 7 . action meeting . restrict certificate incorporation bylaw action require permit meeting board director committee thereof meeting member board committee case consent thereto write writing writing file minute proceeding board committee . filing shall paper form minute maintain paper form shall electronic form minute maintain electronic form . section 8 . fee compensation . director receive compensation service director determine time time board director . contain shall construe preclude director serve corporation capacity officer agent employee receive compensation therefor . section 9 . committee . executive committee board director appoint executive committee 1 member shall director . executive committee extent permit delaware law bylaw executive committee charter resolution board director shall exercise board director session power board director management business affair corporation include limitation power authority declare dividend authorize issuance stock committee shall power authority approve adopt recommend corporation stockholder action matter expressly require delaware general corporation law submit stockholder approval b adopt amend repeal bylaw corporation . b committee board director appoint committee permit law . committee appoint board director shall power perform duty prescribe resolution resolution create committee event shall committee power deny executive committee bylaw . c term member committee board director shall serve term coexistent board director shall appoint committee . board subject provision subsection b section time increase decrease number member committee terminate existence committee provide committee shall consist 1 member . membership committee member shall terminate date death voluntary resignation board time reason remove individual committee member board fill committee vacancy create death resignation removal increase number member committee . board director designate 1 director alternate member committee replace absent disqualify member meeting committee addition absence disqualification member committee member member thereof present meeting disqualify vote member member constitute quorum unanimously appoint member board director act meeting place absent disqualify member . d meeting board director shall provide regular meeting executive committee committee appoint pursuant section shall hold time place determine board director committee notice thereof member committee notice regular meeting nee special meeting committee director member committee write notice member committee time place special meeting manner provide giving write notice member board director time place special meeting board director . notice special meeting committee waive write time meeting waive director attendance thereat . majority authorize number member committee shall constitute quorum transaction business act majority present meeting quorum present shall act committee . section 10 emergency bylaw . event emergency disaster catastrophe refer section 110 delaware general corporation law similar emergency condition result quorum board director standing committee board readily convene action director director attendance meeting shall constitute quorum . director director attendance action appoint 1 director membership standing temporary committee board shall deem necessary appropriate . article iv officer section 1 . officer designate . officer corporation elect board director shall chairman board director shall member board director chief executive officer president 1 vice president secretary chief financial officer treasurer officer board director deem expedient officer shall elect manner hold office term board director prescribe . board director assign additional title 1 officer shall deem appropriate . 1 person hold number office corporation time specifically prohibit therefrom law . board director time time discretion assign title power duty report arrangement elect officer . office corporation leave vacant time time discretion board director . salary compensation officer corporation shall fix manner designate board director . b addition officer elect board director accordance section 1a corporation appoint vicepresident fellow assistant secretary assistant treasurer officer shall officer corporation appoint officer . appoint officer appoint chairman board chief executive officer . chairman board chief executive officer time time discretion assign power duty scope job responsibility report arrangement appoint officer . appoint officer shall title power duty person appoint appoint officer determine consistent section 2 article . section 2 . tenure succession duty officer . tenure officer shall hold office pleasure board director successor shall duly elect qualified sooner remove . officer elect board director remove time board director . office elect officer vacant reason vacancy leave vacant fill board director . appoint officer remove time board director chairman board chief executive officer . office appoint officer vacant reason vacancy leave vacant fill chairman board chief executive officer . bylaw shall construe create kind contractual right employment corporation . b succession absence resolution board director specify order succession case corporate officer list shall kidnap miss dead deem manager incapacitate unable appropriately perform duty case officer vacate office individually corporate absence corporate officer power duty shall perform follow succession chairman board case corporate absence regard chairman board board director shall meet promptly consider confer title power duty chairman board director member board director . ii succession chief executive officer case corporate absence regard chief executive officer board director shall meet promptly confer title power duty chief executive officer elect officer officer . board director action president shall exercise power perform duty chief executive officer . iii succession president case corporate absence regard president board director shall meet promptly confer title power duty president officer officer . board director action chief executive officer separate chief executive officer time chief financial officer shall exercise power perform duty president . iv succession chief financial officer case corporate absence regard chief financial officer chairman board chief executive officer direct vice president director corporate finance assume perform duty chief financial officer vice president director corporate finance shall perform duty power board director chairman board chief executive officer shall designate time time . v succession treasurer case corporate absence regard treasurer chairman board chief executive officer direct assistant treasurer assume perform duty treasurer assistant treasurer shall perform duty power board director chairman board chief executive officer shall designate time time . vi succession vice president general counsel case corporate absence regard vice president general counsel chairman board chief executive officer direct vice president deputy general counsel vice president deputy general counsel member vice president general counsel direct staff assume perform duty vice president general counsel vice president deputy general counsel direct staff member shall perform duty power board director chairman board chief executive officer shall designate time time . vii succession secretary case corporate absence regard secretary chairman board chief executive officer direct assistant secretary assume perform duty secretary assistant secretary shall perform duty shall power board director chairman board chief executive officer shall designate time time . c duty officer bear title set forth shall power duty set forth determine board director . duty chairman board director chairman board director shall preside meeting stockholder board director board director determine . chairman board director shall perform duty power board director shall designate time time . ii duty chief executive officer chief executive officer shall subject oversight board director general supervision direction control business officer employee agent corporation . absence chairman board chief executive officer officer director shall preside meeting board director board director determine . chief executive officer shall perform duty power board director shall designate time time . iii duty president subject oversight board director supervision control authority chief executive officer president shall general supervision direction control business officer employee agent corporation . president shall perform duty power board director shall designate time time . iv duty vice president fellow vice president elect board director appoint chairman board chief executive officer fellow shall power perform duty pertain relate vice president fellow designated job business function shall power perform duty board director chairman board chief executive officer shall designate time time . v duty secretary secretary shall attend meeting stockholder board director committee thereof shall record act proceeding thereof minute book corporation shall seal corporation safe custody . secretary shall notice conformity bylaw meeting stockholder meeting board director committee thereof require notice . secretary shall perform duty power board director shall designate time time . shall duty assistant secretary assist secretary performance secretary power duty generally power perform duty delegate board director chairman board chief executive officer . vi duty chief financial officer treasurer chief financial officer treasurer shall control audit arrange financial affair corporation consistent responsibility delegate corporation chief executive officer president . chief financial officer treasurer case shall receive deposit monie belong corporation shall pay manner board director time time determine shall power perform duty board director require . shall duty assistant treasurer assist treasurer performance treasurer power duty generally power perform duty delegate board director chairman board chief executive officer . article v execution corporate instrument voting security corporation section 1 . execution corporate instrument . board director discretion determine method designate signatory officer officer person person execute corporate instrument document sign corporate limitation provide law execution signature shall bind corporation . b specifically determine board director require law bylaw formal contract corporation promissory note deed trust mortgage evidence indebtedness corporation corporate instrument document shall execute sign endorse chairman board chief executive officer president secretary vice president fellow regard corporate instrument pertain relate vice president fellow job business function . c check draft draw bank depositary fund asset credit corporation special account corporation shall sign person person authorize board director . section 2 . execution voting security corporation . stock security corporation hold corporation party capacity shall vote proxy respect thereto shall execute person authorize resolution board director absence authorization chairman board chief executive officer president chief financial officer treasurer secretary . certificate share stock security corporation shall execute sign endorse person authorize resolution board director absence authorization chairman board chief executive officer president chief financial officer treasurer secretary . article vi share stock section 1 . form execution certificate . certificate share stock corporation shall form consistent certificate incorporation applicable law . holder stock corporation shall entitle certificate sign corporation chairman board chief executive officer president vice president treasurer assistant treasurer secretary assistant secretary certify number share corporation . signature certificate facsimile . case officer transfer agent registrar sign facsimile signature place certificate shall cease officer transfer agent registrar certificate issue issue effect officer transfer agent registrar date issue . corporation shall authorize issue class stock series class power designation preference relative participate optional special right class stock series thereof qualification limitation restriction preference andor right shall set forth summarize face certificate corporation shall issue represent class series stock provide provide section 202 delaware general corporation law lieu forego requirement set forth face certificate corporation shall issue represent class series stock statement corporation furnish charge stockholder request power designation preference relative participate optional special right class stock series thereof qualification limitation restriction preference andor right . section 2 . lose certificate . board director direct new certificate certificate issue place certificate certificate theretofore issue corporation allege lose destroy affidavit fact person claim certificate stock lose destroy . authorize issue new certificate certificate board director discretion condition precedent issuance thereof require owner lose destroy certificate certificate legal representative indemnify corporation manner shall require andor corporation surety bond form direct indemnity claim corporation respect certificate allege lose destroy . section 3 . transfer . transfer record share stock corporation shall book holder thereof person attorney duly authorize surrender certificate certificate like number share properly endorse . section 4 . fix record date . order corporation determine stockholder entitle notice vote meeting stockholder adjournment thereof board director fix record date record date shall precede date resolution fix record date adopt board director record date shall 60 10 day date meeting . record date fix board director record date determine stockholder entitle notice vote meeting stockholder shall close business day precede day notice notice waive close business day precede date meeting hold . determination stockholder record entitle notice vote meeting stockholder shall apply adjournment meeting provide board director fix new record date adjourn meeting . b order corporation determine stockholder entitle receive payment dividend distribution allotment right stockholder entitle exercise right respect change conversion exchange stock purpose lawful action board director fix record date record date shall precede date resolution fix record date adopt record date shall 60 day prior action . record date fix record date determine stockholder purpose shall close business day board director adopt resolution relate thereto . section 5 . register stockholder . corporation shall entitle recognize exclusive right person register book owner share receive dividend vote owner shall bind recognize equitable claim interest share share person shall express notice thereof provide law delaware . article vii security corporation bond debenture corporate security corporation stock certificate sign chairman board chief executive officer president vice president person authorize board director corporate seal impressed thereon facsimile seal imprint thereon attest signature secretary assistant secretary treasurer assistant treasurer provide bond debenture corporate security shall authenticate manual signature trustee indenture pursuant bond debenture corporate security shall issue signature person signing attest corporate seal bond debenture corporate security imprint facsimile signature person . interest coupon appertain bond debenture corporate security authenticate trustee aforesaid shall sign treasurer assistant treasurer corporation person authorize board director bear imprint thereon facsimile signature person . case officer shall sign attest bond debenture corporate security facsimile signature shall appear thereon shall cease officer corporation bond debenture corporate security sign attest shall deliver bond debenture corporate security adopt corporation issue deliver person sign facsimile signature shall use thereon cease officer corporation . article viii corporate seal corporation shall common seal shall inscribe intel corporation incorporate march 1 1989 delaware event corporation change corporate seal shall change reflect new . corporate instrument document require corporate seal execute provide article v bylaw corporate seal shall apply secretary assistant secretary . article ix indemnification officer director employee agent section 1 . right indemnification . person party threaten party involve party witness threaten pende complete action suit arbitration alternative dispute mechanism inquiry administrative legislative hearing investigation actual threaten complete proceed include appeal civil criminal administrative investigative hereinafter proceeding reason fact person legal representative director officer employee agent corporation include service respect employee benefit plan serve request corporation director officer employee agent corporation partnership joint venture trust enterprise basis proceeding allege action official capacity director officer employee agent capacity serve director officer employee agent agent shall indemnified hold harmless corporation extent authorize delaware general corporation law exist amend interpret case amendment interpretation extent amendment interpretation permit corporation provide broad indemnification right permit prior thereto expense liability loss include attorney ' fee judgment fine erisa excise taxis penalty pay pay settlement interest assessment charge impose thereon federal state local foreign taxis impose agent result actual deem receipt payment article reasonably incur suffer person connection investigate defend witness participate include appeal prepare foregoing proceed hereinafter expense provide action enforce indemnification right pursuant section 3 article corporation shall indemnify agent seek indemnification connection proceeding thereof initiate person proceeding thereof authorize board director corporation . right indemnification confer article shall contract right . section 2 . authority advance expense . expense incur officer director act capacity defend proceeding shall pay corporation advance final disposition proceeding provide require delaware general corporation law amend expense shall advanced delivery corporation undertaking behalf director officer repay shall ultimately determine entitle indemnify corporation authorize article . expense incur agent corporation director officer act capacity include service respect employee benefit plan advance term condition board director deem appropriate . obligation reimburse corporation expense advance shall unsecured interest shall charge thereon . section 3 . right claimant bring suit . claim section 1 2 article pay corporation thirty 30 day write claim receive corporation claimant time bring suit court competent jurisdiction state delaware corporation recover unpaid claim successful claimant shall entitle pay expense include attorney ' fee prosecute claim . shall defense action action bring enforce claim expense incur defend proceeding advance final disposition require undertaking tender corporation claimant meet standard conduct permissible delaware general corporation law corporation indemnify claimant claim . burden prove defense shall corporation . failure corporation include board director independent legal counsel stockholder determination prior commencement action indemnification claimant proper circumstance meet applicable standard conduct set forth delaware general corporation law actual determination corporation include board director independent legal counsel stockholder claimant meet applicable standard conduct shall defense action create presumption claimant meet applicable standard conduct . section 4 . provision nonexclusive . right confer person article shall exclusive right person acquire statute provision certificate incorporation agreement vote stockholder disintereste director action official capacity action capacity hold office . extent provision certificate incorporation agreement vote stockholder disintereste director inconsistent bylaw provision agreement vote shall precedence . section 5 . authority insure . corporation purchase maintain insurance protect agent expense corporation power indemnify agent expense applicable law provision article . section 6 . survival right . right provide article shall continue person cease agent shall inure benefit heir executor administrator person . section 7 . settlement claim . corporation shall liable indemnify agent article pay settlement action claim effect corporation write consent consent shall unreasonably withhold b judicial award corporation reasonable timely opportunity expense participate defense action . section 8 . effect amendment . amendment repeal modification article shall adversely affect right protection agent exist time amendment repeal modification . section 9 . subrogation . event payment article corporation shall subrogate extent payment right recovery agent shall execute paper require shall necessary secure right include execution document necessary enable corporation effectively bring suit enforce right . section 10 . duplication payment . corporation shall liable article payment connection claim agent extent agent actually receive payment insurance policy agreement vote indemnifiable hereund . article x notice provision bylaw notice require stockholder shall write timely duly deposit united state mail postage prepay address stockholder know post office address stock record corporation transfer agent b form electronic transmission consent stockholder notice extent prohibit section 232e delaware general corporation law . consent receive notice electronic transmission shall revocable stockholder write notice corporation . consent shall deem revoke corporation unable deliver electronic transmission 2 consecutive notice corporation accordance consent ii inability know secretary assistant secretary corporation transfer agent person responsible notice provide inadvertent failure treat inability revocation shall invalidate meeting action . b notice require director method hereinabove state . notice deliver personally shall send post office address facsimile number electronic mail address director shall file write secretary corporation absence file know post office address director . shall necessary method notice employ respect director 1 permissible method employ respect permissible method method employ respect . c post office address stockholder director know notice send office corporation require maintain pursuant section 2 article hereof . affidavit execute duly authorize competent employee corporation transfer agent agent corporation appoint respect class stock affect specify post office address post office address stockholder stockholder director director notice notice time method stockholder director notice direct electronic transmission form electronic transmission facsimile number electronic mail address location notice direct time notice direct director stockholder shall prima facie evidence statement contain . d notice mail provide shall deem time mailing . notice stockholder form electronic transmission provide shall deem facsimile direct number stockholder consent receive notice b electronic mail direct electronic mail address stockholder consent receive notice c post electronic network separate notice stockholder specific post later post ii giving separate notice d form electronic transmission direct stockholder . notice director form electronic transmission provide shall deem direct electronic mail address facsimile number location file writing director secretary corporation . e period limitation time stockholder exercise option right enjoy privilege benefit require act director exercise power right enjoy privilege pursuant notice send manner provide shall affect extend manner failure stockholder director receive notice . f notice require provision statute certificate incorporation bylaw waiver thereof write person person entitle notice time state shall deem equivalent thereto . g notice require provision law certificate incorporation bylaw corporation person communication unlawful giving notice person shall require shall duty apply governmental authority agency license permit notice person . action meeting shall hold notice person communication unlawful shall force effect notice duly . event action corporation require filing certificate provision delaware general corporation law certificate shall state fact notice require notice person entitle receive notice person communication unlawful . h notice corporation stockholder provision law certificate incorporation bylaw corporation notice shall deliver secretary principal executive office corporation . deliver electronic mail facsimile stockholder notice shall direct secretary electronic mail address facsimile number case specify company recent proxy statement . article xi amendment provide certificate incorporation bylaw repeal altered amend new bylaw adopt meeting stockholder annual special affirmative vote majority stock entitle vote meeting . board director shall authority repeal alter amend bylaw adopt new bylaw include limitation amendment bylaw set forth number director shall constitute board director unanimous write consent annual regular special meeting affirmative vote majority number director subject power stockholder change repeal bylaw provide board director shall alter bylaw fix qualification classification term office compensation director . article xii electronic transmission use bylaw term write writing shall include electronic transmission define section 232c delaware general corporation law include limitation telegram cablegram facsimile transmission communication electronic mail . exhibit 99.1 intel board elect paul otellini intel ceo craig barrett intel chairman santa clara calif . nov . 11 2004 intel corporation today announce board director elect paul s. otellini currently president chief operating officer coo chief executive officer ceo . otellini 54 succeed craig r. barrett . barrett 65 succeed andrew s. grove chairman intel board director . grove 68 longer serve intel board assume role senior advisor board senior management . change effective time company annual stockholder ' meeting 18 2005 . craig paul right team right time intel grove . exceptionally fortunate helm . work closely craig paul 30 year know paul vitality deep knowledge intel product customer global market craig stature industry leader preeminent technologist outstanding choice lead intel board company drive core silicon expertise computing communication . look forward collaborate craig paul new role help intel achieve new level success . otellini joined intel 1974 serve president coo january 2002 . elect board director 2002 . join intel otellini hold number position include general manager company chipset business later serve assistant thenintel president andy grove 1989 . 1990 oversee intel microprocessor business general manager lead introduction intel pentiumr processor 1993 . otellini serve 1992 1998 executive vice president sale marketing focus extend intel global presence emerge market initiate intel leadership development use ecommerce transact business worldwide . 1998 2002 otellini serve executive vice president general manager intel architecture group responsible company microprocessor chipset business strategy . role oversee intel business group relate enterprise mobile desktop computing . otellini receive bachelor degree economic university san francisco 1972 mba university california berkeley 1974 . barrett join intel 1974 serve ceo 1998 . elect board director 1992 . intel world large chip maker lead manufacturer computer networking communication product . additional information intel available www.intel.compressroom .\n"
     ]
    }
   ],
   "source": [
    "# Checking Largest Normalized Document\n",
    "with open(largest_norm_doc_path) as f:\n",
    "    largest_norm_doc_raw = f.read()\n",
    "\n",
    "largest_norm_doc = normalize_document(largest_norm_doc_raw, debug=True)\n",
    "print()\n",
    "print(largest_norm_doc)  "
   ]
  },
  {
   "cell_type": "code",
   "execution_count": 81,
   "metadata": {},
   "outputs": [
    {
     "name": "stdout",
     "output_type": "stream",
     "text": [
      "raw length of doc: 8749\n",
      "stripped tag length: 2281\n",
      "altered accents length: 2281\n",
      "lower casing length: 2281\n",
      "removing newlines length: 2228\n",
      "strip special char length: 2063\n",
      "lemmatized doc length: 2087\n",
      "removed stop word length: 1908\n",
      "removed extra space length: 1120\n",
      "\n",
      " security exchange commission washington d.c . 20549 form 8k current report pursuant section 13 15 d security exchange act 1934 date report december 20 1994 intel corporation exact registrant specify charter delaware 06217 941672743 state incorporation commission file number irs employer identification . 2200 mission college blvd . santa clara 95052 address principal executive office 4087658080 registrant telephone number 2 item 5 . event . 5.1 attach hereto exhibit 99.1 incorporate reference press release issue intel corporation december 20 1994 relate adoption uponrequ replacement policy pentiumtm processor material unspecified charge earning intel corporation fourth quarter fiscal year end december 31 1994 . item 7 . financial statement pro forma financial information exhibit . exhibit 99.1 press release intel corporation date december 20 1994 3 signature pursuant requirement security exchange act 1934 registrant duly cause report sign behalf undersigned hereunto duly authorize . intel corporation s f. thomas dunlap jr . f. thomas dunlap jr . vice president general counsel secretary december 20 1994 \n"
     ]
    }
   ],
   "source": [
    "# Checking Smallest Normalized Document\n",
    "with open(smallest_norm_doc_path) as f:\n",
    "    smallest_norm_doc_raw = f.read()\n",
    "\n",
    "smallest_norm_doc = normalize_document(smallest_norm_doc_raw, debug=True)\n",
    "print()\n",
    "print(smallest_norm_doc)"
   ]
  },
  {
   "cell_type": "markdown",
   "metadata": {},
   "source": [
    "Nothing seems out of the ordinary about these two normalized documents. The relevant information of the 8-K Document sections of the 8-K filings are still there. The Item #.## sections are still existant in these normalized documents, thus they still contain the information that will be important for analysis, albiet with some noise still"
   ]
  },
  {
   "cell_type": "markdown",
   "metadata": {},
   "source": [
    "### Conclusion"
   ]
  },
  {
   "cell_type": "markdown",
   "metadata": {},
   "source": [
    "From our exploratory analysis we can conclude that our pricing data seems to fit the assumptions one usually assumes about stock pricing data. This means that the stock pricing data should be distributed log-normally and implies that the log returns of a stock over a period of time should be distributed normally. Our exploratory analysis of our text data shows there is nothing unusual about our raw text data, and it should fit into memory fine. It also shows that our text preprocessing methods still preserve the important parts of our text data and thus should not pose a future issue for analysis. From these findings we can conclude that our raw text data is useable, our text preprocessing methods are useable, and our price data is useable. Since the log returns of our pricing data (Adjusted Daily Closing Price) appear to fit a Gaussian distribution pretty well, our predictor variable in analysis should be log returns (as opposed to Adjusted Daily Closing Price) because the Gaussian distribution has some nice mathematical properties that might be leveraged further on in the future."
   ]
  },
  {
   "cell_type": "markdown",
   "metadata": {},
   "source": [
    "## Feature Encoding and Selection"
   ]
  }
 ],
 "metadata": {
  "kernelspec": {
   "display_name": "Python 3",
   "language": "python",
   "name": "python3"
  },
  "language_info": {
   "codemirror_mode": {
    "name": "ipython",
    "version": 3
   },
   "file_extension": ".py",
   "mimetype": "text/x-python",
   "name": "python",
   "nbconvert_exporter": "python",
   "pygments_lexer": "ipython3",
   "version": "3.7.3"
  }
 },
 "nbformat": 4,
 "nbformat_minor": 2
}
