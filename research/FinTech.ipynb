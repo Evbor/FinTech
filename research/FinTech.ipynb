{
 "cells": [
  {
   "cell_type": "code",
   "execution_count": 80,
   "metadata": {},
   "outputs": [],
   "source": [
    "import os\n",
    "import io\n",
    "import json\n",
    "import requests\n",
    "import numpy as np\n",
    "import pandas as pd\n",
    "import matplotlib.pyplot as plt"
   ]
  },
  {
   "cell_type": "markdown",
   "metadata": {},
   "source": [
    "# Fetching Data"
   ]
  },
  {
   "cell_type": "code",
   "execution_count": 62,
   "metadata": {},
   "outputs": [],
   "source": [
    "project_dir = os.path.split(os.getcwd())[0]\n",
    "path_to_data = os.path.join(project_dir, 'data')"
   ]
  },
  {
   "cell_type": "code",
   "execution_count": 63,
   "metadata": {},
   "outputs": [],
   "source": [
    "# Loading API keys\n",
    "path_to_keys = os.path.join(project_dir, 'api_keys.json')\n",
    "with open(path_to_keys, 'r') as f:\n",
    "    api_keys = json.load(f)"
   ]
  },
  {
   "cell_type": "code",
   "execution_count": 64,
   "metadata": {},
   "outputs": [],
   "source": [
    "ticker = 'INTC'\n",
    "CIK = '0000050863'"
   ]
  },
  {
   "cell_type": "markdown",
   "metadata": {},
   "source": [
    "## Fetching stock price data"
   ]
  },
  {
   "cell_type": "code",
   "execution_count": 65,
   "metadata": {},
   "outputs": [],
   "source": [
    "# Stock price url and params\n",
    "# url = 'https://www.quandl.com/api/v3/datasets/EOD/INTC.csv'\n",
    "aa_url = 'https://www.alphavantage.co/query'\n",
    "aa_params = {'function': 'TIME_SERIES_DAILY_ADJUSTED', 'symbol': ticker, 'datatype': 'csv',\n",
    "             'apikey': api_keys['alphavantage'], 'outputsize': 'full'}\n"
   ]
  },
  {
   "cell_type": "code",
   "execution_count": 66,
   "metadata": {},
   "outputs": [],
   "source": [
    "# Accessing data\n",
    "aa_response = requests.get(aa_url, params=aa_params)\n",
    "with open(os.path.join(path_to_data, 'raw_TS_prices.csv'), 'w') as f:\n",
    "    f.write(aa_response.text)"
   ]
  },
  {
   "cell_type": "code",
   "execution_count": 67,
   "metadata": {},
   "outputs": [
    {
     "name": "stdout",
     "output_type": "stream",
     "text": [
      "<class 'pandas.core.frame.DataFrame'>\n",
      "RangeIndex: 5032 entries, 0 to 5031\n",
      "Data columns (total 9 columns):\n",
      "timestamp            5032 non-null datetime64[ns]\n",
      "open                 5032 non-null float64\n",
      "high                 5032 non-null float64\n",
      "low                  5032 non-null float64\n",
      "close                5032 non-null float64\n",
      "adjusted_close       5032 non-null float64\n",
      "volume               5032 non-null int64\n",
      "dividend_amount      5032 non-null float64\n",
      "split_coefficient    5032 non-null float64\n",
      "dtypes: datetime64[ns](1), float64(7), int64(1)\n",
      "memory usage: 353.9 KB\n"
     ]
    }
   ],
   "source": [
    "# inspecting data\n",
    "price_df = pd.read_csv(os.path.join(path_to_data, 'raw_TS_prices.csv'), parse_dates=['timestamp'])\n",
    "price_df.info()"
   ]
  },
  {
   "cell_type": "code",
   "execution_count": 68,
   "metadata": {},
   "outputs": [
    {
     "data": {
      "text/html": [
       "<div>\n",
       "<style scoped>\n",
       "    .dataframe tbody tr th:only-of-type {\n",
       "        vertical-align: middle;\n",
       "    }\n",
       "\n",
       "    .dataframe tbody tr th {\n",
       "        vertical-align: top;\n",
       "    }\n",
       "\n",
       "    .dataframe thead th {\n",
       "        text-align: right;\n",
       "    }\n",
       "</style>\n",
       "<table border=\"1\" class=\"dataframe\">\n",
       "  <thead>\n",
       "    <tr style=\"text-align: right;\">\n",
       "      <th></th>\n",
       "      <th>timestamp</th>\n",
       "      <th>open</th>\n",
       "      <th>high</th>\n",
       "      <th>low</th>\n",
       "      <th>close</th>\n",
       "      <th>adjusted_close</th>\n",
       "      <th>volume</th>\n",
       "      <th>dividend_amount</th>\n",
       "      <th>split_coefficient</th>\n",
       "    </tr>\n",
       "  </thead>\n",
       "  <tbody>\n",
       "    <tr>\n",
       "      <td>0</td>\n",
       "      <td>2019-09-18</td>\n",
       "      <td>52.13</td>\n",
       "      <td>52.10</td>\n",
       "      <td>51.162</td>\n",
       "      <td>51.74</td>\n",
       "      <td>51.74</td>\n",
       "      <td>13034209</td>\n",
       "      <td>0.0</td>\n",
       "      <td>1.0</td>\n",
       "    </tr>\n",
       "    <tr>\n",
       "      <td>1</td>\n",
       "      <td>2019-09-17</td>\n",
       "      <td>52.05</td>\n",
       "      <td>52.14</td>\n",
       "      <td>51.350</td>\n",
       "      <td>51.95</td>\n",
       "      <td>51.95</td>\n",
       "      <td>19641100</td>\n",
       "      <td>0.0</td>\n",
       "      <td>1.0</td>\n",
       "    </tr>\n",
       "    <tr>\n",
       "      <td>2</td>\n",
       "      <td>2019-09-16</td>\n",
       "      <td>51.90</td>\n",
       "      <td>52.29</td>\n",
       "      <td>51.700</td>\n",
       "      <td>52.20</td>\n",
       "      <td>52.20</td>\n",
       "      <td>13354600</td>\n",
       "      <td>0.0</td>\n",
       "      <td>1.0</td>\n",
       "    </tr>\n",
       "    <tr>\n",
       "      <td>3</td>\n",
       "      <td>2019-09-13</td>\n",
       "      <td>52.76</td>\n",
       "      <td>53.00</td>\n",
       "      <td>52.230</td>\n",
       "      <td>52.54</td>\n",
       "      <td>52.54</td>\n",
       "      <td>18010800</td>\n",
       "      <td>0.0</td>\n",
       "      <td>1.0</td>\n",
       "    </tr>\n",
       "    <tr>\n",
       "      <td>4</td>\n",
       "      <td>2019-09-12</td>\n",
       "      <td>53.00</td>\n",
       "      <td>53.33</td>\n",
       "      <td>52.070</td>\n",
       "      <td>53.01</td>\n",
       "      <td>53.01</td>\n",
       "      <td>23308700</td>\n",
       "      <td>0.0</td>\n",
       "      <td>1.0</td>\n",
       "    </tr>\n",
       "  </tbody>\n",
       "</table>\n",
       "</div>"
      ],
      "text/plain": [
       "   timestamp   open   high     low  close  adjusted_close    volume  \\\n",
       "0 2019-09-18  52.13  52.10  51.162  51.74           51.74  13034209   \n",
       "1 2019-09-17  52.05  52.14  51.350  51.95           51.95  19641100   \n",
       "2 2019-09-16  51.90  52.29  51.700  52.20           52.20  13354600   \n",
       "3 2019-09-13  52.76  53.00  52.230  52.54           52.54  18010800   \n",
       "4 2019-09-12  53.00  53.33  52.070  53.01           53.01  23308700   \n",
       "\n",
       "   dividend_amount  split_coefficient  \n",
       "0              0.0                1.0  \n",
       "1              0.0                1.0  \n",
       "2              0.0                1.0  \n",
       "3              0.0                1.0  \n",
       "4              0.0                1.0  "
      ]
     },
     "execution_count": 68,
     "metadata": {},
     "output_type": "execute_result"
    }
   ],
   "source": [
    "price_df.head()"
   ]
  },
  {
   "cell_type": "code",
   "execution_count": 69,
   "metadata": {},
   "outputs": [
    {
     "name": "stdout",
     "output_type": "stream",
     "text": [
      "1999-09-20 00:00:00\n"
     ]
    }
   ],
   "source": [
    "# data need from time series to fetch text data\n",
    "start_date = price_df.timestamp.min()\n",
    "print(start_date)"
   ]
  },
  {
   "cell_type": "markdown",
   "metadata": {},
   "source": [
    "## Fetching text data"
   ]
  },
  {
   "cell_type": "code",
   "execution_count": 70,
   "metadata": {},
   "outputs": [],
   "source": [
    "import re\n",
    "import datetime\n",
    "import lxml\n",
    "from bs4 import BeautifulSoup"
   ]
  },
  {
   "cell_type": "code",
   "execution_count": 71,
   "metadata": {},
   "outputs": [],
   "source": [
    "edgar_url = 'https://www.sec.gov/cgi-bin/browse-edgar'\n",
    "edgar_params = {'action': 'getcompany', 'CIK': CIK, 'type': '8-k',\n",
    "                'owner': 'exclude', 'count': '100', 'output': 'atom', 'start': ''}"
   ]
  },
  {
   "cell_type": "code",
   "execution_count": 72,
   "metadata": {},
   "outputs": [
    {
     "name": "stdout",
     "output_type": "stream",
     "text": [
      "https://www.sec.gov/cgi-bin/browse-edgar?action=getcompany&CIK=0000050863&type=8-k&owner=exclude&count=100&output=atom&start=\n"
     ]
    }
   ],
   "source": [
    "edgar_response = requests.get(edgar_url, params=edgar_params)\n",
    "print(edgar_response.url)"
   ]
  },
  {
   "cell_type": "code",
   "execution_count": 73,
   "metadata": {},
   "outputs": [],
   "source": [
    "# Parsing initial response to build list of document urls and filing dates\n",
    "\n",
    "soup = BeautifulSoup(edgar_response.text, 'lxml')\n",
    "\n",
    "all_docs = []\n",
    "# While the link to the next page existing is true\n",
    "while True:\n",
    "    # Find all document entries on the page\n",
    "    entries = soup.find_all('entry')\n",
    "    # For each entry scrape the filing-date and the url to the text document\n",
    "    for entry in entries:\n",
    "        filing_date = entry.find('filing-date').text\n",
    "        doc_link = re.sub('-index.htm.*', '.txt', entry.find('link')['href'])\n",
    "        doc_entry = (filing_date, doc_link)\n",
    "        all_docs.append(doc_entry)\n",
    "    # Break loop after scraping entries on the current page, but before requesting on the link to the next page which is potentially none existant\n",
    "    if soup.find_all('link', {'rel': 'next'}) == []:\n",
    "        break\n",
    "    # Find link to the next page, request next page, and update soup object to consist of the next page\n",
    "    nxt_pg_link = soup.find_all('link', {'rel': 'next'})[0]['href']\n",
    "    nxt_pg = requests.get(nxt_pg_link)\n",
    "    soup = BeautifulSoup(nxt_pg.text, 'lxml')"
   ]
  },
  {
   "cell_type": "code",
   "execution_count": 74,
   "metadata": {},
   "outputs": [
    {
     "name": "stdout",
     "output_type": "stream",
     "text": [
      "<class 'pandas.core.frame.DataFrame'>\n",
      "RangeIndex: 335 entries, 0 to 334\n",
      "Data columns (total 2 columns):\n",
      "filing_date    335 non-null datetime64[ns]\n",
      "url            335 non-null object\n",
      "dtypes: datetime64[ns](1), object(1)\n",
      "memory usage: 5.4+ KB\n"
     ]
    }
   ],
   "source": [
    "doc_df = pd.DataFrame(all_docs, columns=['filing_date', 'url'])\n",
    "doc_df['filing_date'] = pd.to_datetime(doc_df['filing_date'])\n",
    "doc_df.info()"
   ]
  },
  {
   "cell_type": "code",
   "execution_count": 75,
   "metadata": {},
   "outputs": [
    {
     "data": {
      "text/html": [
       "<div>\n",
       "<style scoped>\n",
       "    .dataframe tbody tr th:only-of-type {\n",
       "        vertical-align: middle;\n",
       "    }\n",
       "\n",
       "    .dataframe tbody tr th {\n",
       "        vertical-align: top;\n",
       "    }\n",
       "\n",
       "    .dataframe thead th {\n",
       "        text-align: right;\n",
       "    }\n",
       "</style>\n",
       "<table border=\"1\" class=\"dataframe\">\n",
       "  <thead>\n",
       "    <tr style=\"text-align: right;\">\n",
       "      <th></th>\n",
       "      <th>filing_date</th>\n",
       "      <th>url</th>\n",
       "    </tr>\n",
       "  </thead>\n",
       "  <tbody>\n",
       "    <tr>\n",
       "      <td>0</td>\n",
       "      <td>2019-09-13</td>\n",
       "      <td>https://www.sec.gov/Archives/edgar/data/50863/...</td>\n",
       "    </tr>\n",
       "    <tr>\n",
       "      <td>1</td>\n",
       "      <td>2019-07-25</td>\n",
       "      <td>https://www.sec.gov/Archives/edgar/data/50863/...</td>\n",
       "    </tr>\n",
       "    <tr>\n",
       "      <td>2</td>\n",
       "      <td>2019-05-22</td>\n",
       "      <td>https://www.sec.gov/Archives/edgar/data/50863/...</td>\n",
       "    </tr>\n",
       "    <tr>\n",
       "      <td>3</td>\n",
       "      <td>2019-05-09</td>\n",
       "      <td>https://www.sec.gov/Archives/edgar/data/50863/...</td>\n",
       "    </tr>\n",
       "    <tr>\n",
       "      <td>4</td>\n",
       "      <td>2019-04-25</td>\n",
       "      <td>https://www.sec.gov/Archives/edgar/data/50863/...</td>\n",
       "    </tr>\n",
       "  </tbody>\n",
       "</table>\n",
       "</div>"
      ],
      "text/plain": [
       "  filing_date                                                url\n",
       "0  2019-09-13  https://www.sec.gov/Archives/edgar/data/50863/...\n",
       "1  2019-07-25  https://www.sec.gov/Archives/edgar/data/50863/...\n",
       "2  2019-05-22  https://www.sec.gov/Archives/edgar/data/50863/...\n",
       "3  2019-05-09  https://www.sec.gov/Archives/edgar/data/50863/...\n",
       "4  2019-04-25  https://www.sec.gov/Archives/edgar/data/50863/..."
      ]
     },
     "execution_count": 75,
     "metadata": {},
     "output_type": "execute_result"
    }
   ],
   "source": [
    "doc_df.head()"
   ]
  },
  {
   "cell_type": "markdown",
   "metadata": {},
   "source": [
    "## Combining text data with stock price data"
   ]
  },
  {
   "cell_type": "markdown",
   "metadata": {},
   "source": [
    "### Converting price data to log yields"
   ]
  },
  {
   "cell_type": "code",
   "execution_count": 84,
   "metadata": {},
   "outputs": [
    {
     "data": {
      "text/html": [
       "<div>\n",
       "<style scoped>\n",
       "    .dataframe tbody tr th:only-of-type {\n",
       "        vertical-align: middle;\n",
       "    }\n",
       "\n",
       "    .dataframe tbody tr th {\n",
       "        vertical-align: top;\n",
       "    }\n",
       "\n",
       "    .dataframe thead th {\n",
       "        text-align: right;\n",
       "    }\n",
       "</style>\n",
       "<table border=\"1\" class=\"dataframe\">\n",
       "  <thead>\n",
       "    <tr style=\"text-align: right;\">\n",
       "      <th></th>\n",
       "      <th>timestamp</th>\n",
       "      <th>open</th>\n",
       "      <th>high</th>\n",
       "      <th>low</th>\n",
       "      <th>close</th>\n",
       "      <th>adjusted_close</th>\n",
       "      <th>volume</th>\n",
       "      <th>dividend_amount</th>\n",
       "      <th>split_coefficient</th>\n",
       "      <th>daily_return</th>\n",
       "      <th>weekly_return</th>\n",
       "    </tr>\n",
       "  </thead>\n",
       "  <tbody>\n",
       "    <tr>\n",
       "      <td>0</td>\n",
       "      <td>2019-09-18</td>\n",
       "      <td>52.13</td>\n",
       "      <td>52.10</td>\n",
       "      <td>51.162</td>\n",
       "      <td>51.74</td>\n",
       "      <td>51.74</td>\n",
       "      <td>13034209</td>\n",
       "      <td>0.0</td>\n",
       "      <td>1.0</td>\n",
       "      <td>NaN</td>\n",
       "      <td>NaN</td>\n",
       "    </tr>\n",
       "    <tr>\n",
       "      <td>1</td>\n",
       "      <td>2019-09-17</td>\n",
       "      <td>52.05</td>\n",
       "      <td>52.14</td>\n",
       "      <td>51.350</td>\n",
       "      <td>51.95</td>\n",
       "      <td>51.95</td>\n",
       "      <td>19641100</td>\n",
       "      <td>0.0</td>\n",
       "      <td>1.0</td>\n",
       "      <td>0.004051</td>\n",
       "      <td>NaN</td>\n",
       "    </tr>\n",
       "    <tr>\n",
       "      <td>2</td>\n",
       "      <td>2019-09-16</td>\n",
       "      <td>51.90</td>\n",
       "      <td>52.29</td>\n",
       "      <td>51.700</td>\n",
       "      <td>52.20</td>\n",
       "      <td>52.20</td>\n",
       "      <td>13354600</td>\n",
       "      <td>0.0</td>\n",
       "      <td>1.0</td>\n",
       "      <td>0.004801</td>\n",
       "      <td>NaN</td>\n",
       "    </tr>\n",
       "    <tr>\n",
       "      <td>3</td>\n",
       "      <td>2019-09-13</td>\n",
       "      <td>52.76</td>\n",
       "      <td>53.00</td>\n",
       "      <td>52.230</td>\n",
       "      <td>52.54</td>\n",
       "      <td>52.54</td>\n",
       "      <td>18010800</td>\n",
       "      <td>0.0</td>\n",
       "      <td>1.0</td>\n",
       "      <td>0.006492</td>\n",
       "      <td>NaN</td>\n",
       "    </tr>\n",
       "    <tr>\n",
       "      <td>4</td>\n",
       "      <td>2019-09-12</td>\n",
       "      <td>53.00</td>\n",
       "      <td>53.33</td>\n",
       "      <td>52.070</td>\n",
       "      <td>53.01</td>\n",
       "      <td>53.01</td>\n",
       "      <td>23308700</td>\n",
       "      <td>0.0</td>\n",
       "      <td>1.0</td>\n",
       "      <td>0.008906</td>\n",
       "      <td>NaN</td>\n",
       "    </tr>\n",
       "    <tr>\n",
       "      <td>5</td>\n",
       "      <td>2019-09-11</td>\n",
       "      <td>51.60</td>\n",
       "      <td>52.79</td>\n",
       "      <td>51.380</td>\n",
       "      <td>52.79</td>\n",
       "      <td>52.79</td>\n",
       "      <td>18968900</td>\n",
       "      <td>0.0</td>\n",
       "      <td>1.0</td>\n",
       "      <td>-0.004159</td>\n",
       "      <td>0.020091</td>\n",
       "    </tr>\n",
       "    <tr>\n",
       "      <td>6</td>\n",
       "      <td>2019-09-10</td>\n",
       "      <td>51.33</td>\n",
       "      <td>51.84</td>\n",
       "      <td>50.830</td>\n",
       "      <td>51.82</td>\n",
       "      <td>51.82</td>\n",
       "      <td>18532000</td>\n",
       "      <td>0.0</td>\n",
       "      <td>1.0</td>\n",
       "      <td>-0.018546</td>\n",
       "      <td>-0.002506</td>\n",
       "    </tr>\n",
       "    <tr>\n",
       "      <td>7</td>\n",
       "      <td>2019-09-09</td>\n",
       "      <td>51.06</td>\n",
       "      <td>52.03</td>\n",
       "      <td>51.020</td>\n",
       "      <td>51.59</td>\n",
       "      <td>51.59</td>\n",
       "      <td>20749700</td>\n",
       "      <td>0.0</td>\n",
       "      <td>1.0</td>\n",
       "      <td>-0.004448</td>\n",
       "      <td>-0.011755</td>\n",
       "    </tr>\n",
       "    <tr>\n",
       "      <td>8</td>\n",
       "      <td>2019-09-06</td>\n",
       "      <td>50.25</td>\n",
       "      <td>50.99</td>\n",
       "      <td>50.070</td>\n",
       "      <td>50.92</td>\n",
       "      <td>50.92</td>\n",
       "      <td>17067900</td>\n",
       "      <td>0.0</td>\n",
       "      <td>1.0</td>\n",
       "      <td>-0.013072</td>\n",
       "      <td>-0.031319</td>\n",
       "    </tr>\n",
       "    <tr>\n",
       "      <td>9</td>\n",
       "      <td>2019-09-05</td>\n",
       "      <td>49.93</td>\n",
       "      <td>51.17</td>\n",
       "      <td>49.870</td>\n",
       "      <td>50.10</td>\n",
       "      <td>50.10</td>\n",
       "      <td>30014200</td>\n",
       "      <td>0.0</td>\n",
       "      <td>1.0</td>\n",
       "      <td>-0.016235</td>\n",
       "      <td>-0.056460</td>\n",
       "    </tr>\n",
       "    <tr>\n",
       "      <td>10</td>\n",
       "      <td>2019-09-04</td>\n",
       "      <td>47.56</td>\n",
       "      <td>48.95</td>\n",
       "      <td>47.540</td>\n",
       "      <td>48.92</td>\n",
       "      <td>48.92</td>\n",
       "      <td>23450700</td>\n",
       "      <td>0.0</td>\n",
       "      <td>1.0</td>\n",
       "      <td>-0.023835</td>\n",
       "      <td>-0.076135</td>\n",
       "    </tr>\n",
       "    <tr>\n",
       "      <td>11</td>\n",
       "      <td>2019-09-03</td>\n",
       "      <td>47.12</td>\n",
       "      <td>47.22</td>\n",
       "      <td>46.500</td>\n",
       "      <td>46.98</td>\n",
       "      <td>46.98</td>\n",
       "      <td>15003800</td>\n",
       "      <td>0.0</td>\n",
       "      <td>1.0</td>\n",
       "      <td>-0.040464</td>\n",
       "      <td>-0.098054</td>\n",
       "    </tr>\n",
       "    <tr>\n",
       "      <td>12</td>\n",
       "      <td>2019-08-30</td>\n",
       "      <td>47.24</td>\n",
       "      <td>47.79</td>\n",
       "      <td>47.160</td>\n",
       "      <td>47.41</td>\n",
       "      <td>47.41</td>\n",
       "      <td>16922600</td>\n",
       "      <td>0.0</td>\n",
       "      <td>1.0</td>\n",
       "      <td>0.009111</td>\n",
       "      <td>-0.084495</td>\n",
       "    </tr>\n",
       "  </tbody>\n",
       "</table>\n",
       "</div>"
      ],
      "text/plain": [
       "    timestamp   open   high     low  close  adjusted_close    volume  \\\n",
       "0  2019-09-18  52.13  52.10  51.162  51.74           51.74  13034209   \n",
       "1  2019-09-17  52.05  52.14  51.350  51.95           51.95  19641100   \n",
       "2  2019-09-16  51.90  52.29  51.700  52.20           52.20  13354600   \n",
       "3  2019-09-13  52.76  53.00  52.230  52.54           52.54  18010800   \n",
       "4  2019-09-12  53.00  53.33  52.070  53.01           53.01  23308700   \n",
       "5  2019-09-11  51.60  52.79  51.380  52.79           52.79  18968900   \n",
       "6  2019-09-10  51.33  51.84  50.830  51.82           51.82  18532000   \n",
       "7  2019-09-09  51.06  52.03  51.020  51.59           51.59  20749700   \n",
       "8  2019-09-06  50.25  50.99  50.070  50.92           50.92  17067900   \n",
       "9  2019-09-05  49.93  51.17  49.870  50.10           50.10  30014200   \n",
       "10 2019-09-04  47.56  48.95  47.540  48.92           48.92  23450700   \n",
       "11 2019-09-03  47.12  47.22  46.500  46.98           46.98  15003800   \n",
       "12 2019-08-30  47.24  47.79  47.160  47.41           47.41  16922600   \n",
       "\n",
       "    dividend_amount  split_coefficient  daily_return  weekly_return  \n",
       "0               0.0                1.0           NaN            NaN  \n",
       "1               0.0                1.0      0.004051            NaN  \n",
       "2               0.0                1.0      0.004801            NaN  \n",
       "3               0.0                1.0      0.006492            NaN  \n",
       "4               0.0                1.0      0.008906            NaN  \n",
       "5               0.0                1.0     -0.004159       0.020091  \n",
       "6               0.0                1.0     -0.018546      -0.002506  \n",
       "7               0.0                1.0     -0.004448      -0.011755  \n",
       "8               0.0                1.0     -0.013072      -0.031319  \n",
       "9               0.0                1.0     -0.016235      -0.056460  \n",
       "10              0.0                1.0     -0.023835      -0.076135  \n",
       "11              0.0                1.0     -0.040464      -0.098054  \n",
       "12              0.0                1.0      0.009111      -0.084495  "
      ]
     },
     "execution_count": 84,
     "metadata": {},
     "output_type": "execute_result"
    }
   ],
   "source": [
    "price_df['daily_return'] = np.log(price_df['adjusted_close'] / price_df['adjusted_close'].shift(1))\n",
    "price_df['weekly_return'] = np.log(price_df['adjusted_close'] / price_df['adjusted_close'].shift(5))\n",
    "price_df.head(13)"
   ]
  },
  {
   "cell_type": "markdown",
   "metadata": {},
   "source": [
    "### Reshaping dataframe"
   ]
  },
  {
   "cell_type": "code",
   "execution_count": 77,
   "metadata": {
    "scrolled": true
   },
   "outputs": [
    {
     "ename": "SyntaxError",
     "evalue": "duplicate argument 'foo' in function definition (<ipython-input-77-e72b0c1a4cb5>, line 5)",
     "output_type": "error",
     "traceback": [
      "\u001b[0;36m  File \u001b[0;32m\"<ipython-input-77-e72b0c1a4cb5>\"\u001b[0;36m, line \u001b[0;32m5\u001b[0m\n\u001b[0;31mSyntaxError\u001b[0m\u001b[0;31m:\u001b[0m duplicate argument 'foo' in function definition\n"
     ]
    }
   ],
   "source": [
    "# (String ticker, Foo foo) ----> {'Documents'}\n",
    "def fetch_data(foo, foo):\n",
    "    pass\n",
    "    return None"
   ]
  },
  {
   "cell_type": "code",
   "execution_count": null,
   "metadata": {},
   "outputs": [],
   "source": []
  },
  {
   "cell_type": "code",
   "execution_count": null,
   "metadata": {},
   "outputs": [],
   "source": [
    "## Extrainous but maybe usefull code\n",
    "\"\"\"\n",
    "# EDGAR url and params\n",
    "edgar_url = 'https://www.sec.gov/Archives/edgar/full-index/'\n",
    "edgar_start_yr = start_date.year\n",
    "edgar_start_qtr = ((start_date.month - 1) // (12 // 4)) + 1\n",
    "edgar_current_yr = datetime.datetime.now().year\n",
    "edgar_current_qtr = ((datetime.datetime.now().month - 1) // (12 // 4)) + 1\n",
    "\n",
    "for yr in range(edgar_start_yr, edgar_current_yr + 1):\n",
    "    for qtr in range(1, 5):\n",
    "        if not (((yr == edgar_start_yr) and (qtr < edgar_start_qtr))\n",
    "                or ((yr == edgar_current_yr) and (qtr > edgar_current_qtr))):\n",
    "            url = edgar_url + str(yr) + '/QTR' + str(qtr) + '/master.idx'\n",
    "\n",
    "\n",
    "\"\"\""
   ]
  },
  {
   "cell_type": "code",
   "execution_count": null,
   "metadata": {},
   "outputs": [],
   "source": []
  },
  {
   "cell_type": "code",
   "execution_count": null,
   "metadata": {},
   "outputs": [],
   "source": []
  }
 ],
 "metadata": {
  "kernelspec": {
   "display_name": "Python 3",
   "language": "python",
   "name": "python3"
  },
  "language_info": {
   "codemirror_mode": {
    "name": "ipython",
    "version": 3
   },
   "file_extension": ".py",
   "mimetype": "text/x-python",
   "name": "python",
   "nbconvert_exporter": "python",
   "pygments_lexer": "ipython3",
   "version": "3.6.8"
  }
 },
 "nbformat": 4,
 "nbformat_minor": 2
}
