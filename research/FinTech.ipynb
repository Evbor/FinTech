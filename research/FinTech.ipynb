{
 "cells": [
  {
   "cell_type": "code",
   "execution_count": 113,
   "metadata": {},
   "outputs": [],
   "source": [
    "import os\n",
    "import io\n",
    "import json\n",
    "import requests\n",
    "import pandas as pd\n",
    "import matplotlib.pyplot as plt"
   ]
  },
  {
   "cell_type": "markdown",
   "metadata": {},
   "source": [
    "# Fetching Data"
   ]
  },
  {
   "cell_type": "code",
   "execution_count": 114,
   "metadata": {},
   "outputs": [],
   "source": [
    "project_dir = os.path.split(os.getcwd())[0]\n",
    "path_to_data = os.path.join(project_dir, 'data')"
   ]
  },
  {
   "cell_type": "code",
   "execution_count": 115,
   "metadata": {},
   "outputs": [],
   "source": [
    "# Loading API keys\n",
    "path_to_keys = os.path.join(project_dir, 'api_keys.json')\n",
    "with open(path_to_keys, 'r') as f:\n",
    "    api_keys = json.load(f)"
   ]
  },
  {
   "cell_type": "markdown",
   "metadata": {},
   "source": [
    "## Fetching stock price data"
   ]
  },
  {
   "cell_type": "code",
   "execution_count": 116,
   "metadata": {},
   "outputs": [],
   "source": [
    "# Stock price url and params\n",
    "# url = 'https://www.quandl.com/api/v3/datasets/EOD/INTC.csv'\n",
    "aa_url = 'https://www.alphavantage.co/query'\n",
    "aa_params = {'function': 'TIME_SERIES_DAILY_ADJUSTED', 'symbol': 'INTC', 'datatype': 'csv',\n",
    "             'apikey': api_keys['alphavantage'], 'outputsize': 'full'}\n"
   ]
  },
  {
   "cell_type": "code",
   "execution_count": 117,
   "metadata": {},
   "outputs": [],
   "source": [
    "# Accessing data\n",
    "r = requests.get(url, params=params)\n",
    "with open(os.path.join(path_to_data, 'raw_TS_prices.csv'), 'w') as f:\n",
    "    f.write(r.text)"
   ]
  },
  {
   "cell_type": "code",
   "execution_count": 118,
   "metadata": {},
   "outputs": [
    {
     "name": "stdout",
     "output_type": "stream",
     "text": [
      "<class 'pandas.core.frame.DataFrame'>\n",
      "RangeIndex: 5031 entries, 0 to 5030\n",
      "Data columns (total 9 columns):\n",
      "timestamp            5031 non-null datetime64[ns]\n",
      "open                 5031 non-null float64\n",
      "high                 5031 non-null float64\n",
      "low                  5031 non-null float64\n",
      "close                5031 non-null float64\n",
      "adjusted_close       5031 non-null float64\n",
      "volume               5031 non-null int64\n",
      "dividend_amount      5031 non-null float64\n",
      "split_coefficient    5031 non-null float64\n",
      "dtypes: datetime64[ns](1), float64(7), int64(1)\n",
      "memory usage: 353.9 KB\n"
     ]
    }
   ],
   "source": [
    "# inspecting data\n",
    "df = pd.read_csv(os.path.join(path_to_data, 'raw_TS_prices.csv'), parse_dates=['timestamp'])\n",
    "df.info()"
   ]
  },
  {
   "cell_type": "code",
   "execution_count": 119,
   "metadata": {},
   "outputs": [
    {
     "data": {
      "text/html": [
       "<div>\n",
       "<style scoped>\n",
       "    .dataframe tbody tr th:only-of-type {\n",
       "        vertical-align: middle;\n",
       "    }\n",
       "\n",
       "    .dataframe tbody tr th {\n",
       "        vertical-align: top;\n",
       "    }\n",
       "\n",
       "    .dataframe thead th {\n",
       "        text-align: right;\n",
       "    }\n",
       "</style>\n",
       "<table border=\"1\" class=\"dataframe\">\n",
       "  <thead>\n",
       "    <tr style=\"text-align: right;\">\n",
       "      <th></th>\n",
       "      <th>timestamp</th>\n",
       "      <th>open</th>\n",
       "      <th>high</th>\n",
       "      <th>low</th>\n",
       "      <th>close</th>\n",
       "      <th>adjusted_close</th>\n",
       "      <th>volume</th>\n",
       "      <th>dividend_amount</th>\n",
       "      <th>split_coefficient</th>\n",
       "    </tr>\n",
       "  </thead>\n",
       "  <tbody>\n",
       "    <tr>\n",
       "      <td>0</td>\n",
       "      <td>2019-09-16</td>\n",
       "      <td>51.90</td>\n",
       "      <td>52.285</td>\n",
       "      <td>51.7011</td>\n",
       "      <td>52.20</td>\n",
       "      <td>52.20</td>\n",
       "      <td>11258032</td>\n",
       "      <td>0.0</td>\n",
       "      <td>1.0</td>\n",
       "    </tr>\n",
       "    <tr>\n",
       "      <td>1</td>\n",
       "      <td>2019-09-13</td>\n",
       "      <td>52.76</td>\n",
       "      <td>53.000</td>\n",
       "      <td>52.2300</td>\n",
       "      <td>52.54</td>\n",
       "      <td>52.54</td>\n",
       "      <td>17697300</td>\n",
       "      <td>0.0</td>\n",
       "      <td>1.0</td>\n",
       "    </tr>\n",
       "    <tr>\n",
       "      <td>2</td>\n",
       "      <td>2019-09-12</td>\n",
       "      <td>53.00</td>\n",
       "      <td>53.330</td>\n",
       "      <td>52.0700</td>\n",
       "      <td>53.01</td>\n",
       "      <td>53.01</td>\n",
       "      <td>23308700</td>\n",
       "      <td>0.0</td>\n",
       "      <td>1.0</td>\n",
       "    </tr>\n",
       "    <tr>\n",
       "      <td>3</td>\n",
       "      <td>2019-09-11</td>\n",
       "      <td>51.60</td>\n",
       "      <td>52.790</td>\n",
       "      <td>51.3800</td>\n",
       "      <td>52.79</td>\n",
       "      <td>52.79</td>\n",
       "      <td>18968900</td>\n",
       "      <td>0.0</td>\n",
       "      <td>1.0</td>\n",
       "    </tr>\n",
       "    <tr>\n",
       "      <td>4</td>\n",
       "      <td>2019-09-10</td>\n",
       "      <td>51.33</td>\n",
       "      <td>51.840</td>\n",
       "      <td>50.8300</td>\n",
       "      <td>51.82</td>\n",
       "      <td>51.82</td>\n",
       "      <td>18532000</td>\n",
       "      <td>0.0</td>\n",
       "      <td>1.0</td>\n",
       "    </tr>\n",
       "  </tbody>\n",
       "</table>\n",
       "</div>"
      ],
      "text/plain": [
       "   timestamp   open    high      low  close  adjusted_close    volume  \\\n",
       "0 2019-09-16  51.90  52.285  51.7011  52.20           52.20  11258032   \n",
       "1 2019-09-13  52.76  53.000  52.2300  52.54           52.54  17697300   \n",
       "2 2019-09-12  53.00  53.330  52.0700  53.01           53.01  23308700   \n",
       "3 2019-09-11  51.60  52.790  51.3800  52.79           52.79  18968900   \n",
       "4 2019-09-10  51.33  51.840  50.8300  51.82           51.82  18532000   \n",
       "\n",
       "   dividend_amount  split_coefficient  \n",
       "0              0.0                1.0  \n",
       "1              0.0                1.0  \n",
       "2              0.0                1.0  \n",
       "3              0.0                1.0  \n",
       "4              0.0                1.0  "
      ]
     },
     "execution_count": 119,
     "metadata": {},
     "output_type": "execute_result"
    }
   ],
   "source": [
    "df.head()"
   ]
  },
  {
   "cell_type": "code",
   "execution_count": 120,
   "metadata": {},
   "outputs": [
    {
     "name": "stdout",
     "output_type": "stream",
     "text": [
      "1999-09-17 00:00:00\n"
     ]
    }
   ],
   "source": [
    "# data need from time series to fetch text data\n",
    "start_date = df.timestamp.min()\n",
    "print(start_date)"
   ]
  },
  {
   "cell_type": "markdown",
   "metadata": {},
   "source": [
    "## Fetching text data"
   ]
  },
  {
   "cell_type": "code",
   "execution_count": 121,
   "metadata": {},
   "outputs": [],
   "source": [
    "import datetime"
   ]
  },
  {
   "cell_type": "code",
   "execution_count": 126,
   "metadata": {},
   "outputs": [],
   "source": [
    "# EDGAR url and params\n",
    "edgar_url = 'https://www.sec.gov/Archives/edgar/full-index/'\n",
    "edgar_start_yr = start_date.year\n",
    "edgar_start_qtr = ((start_date.month - 1) // (12 // 4)) + 1\n",
    "edgar_current_yr = datetime.datetime.now().year\n",
    "edgar_current_qtr = ((datetime.datetime.now().month - 1) // (12 // 4)) + 1"
   ]
  },
  {
   "cell_type": "code",
   "execution_count": 134,
   "metadata": {},
   "outputs": [],
   "source": [
    "for yr in range(edgar_start_yr, edgar_current_yr + 1):\n",
    "    for qtr in range(1, 5):\n",
    "        if not (((yr == edgar_start_yr) and (qtr < edgar_start_qtr))\n",
    "                or ((yr == edgar_current_yr) and (qtr > edgar_current_qtr))):\n",
    "            url = edgar_url + str(yr) + '/QTR' + str(qtr) + '/master.idx'"
   ]
  },
  {
   "cell_type": "code",
   "execution_count": null,
   "metadata": {},
   "outputs": [],
   "source": [
    "# (String ticker, Foo foo) ----> {'Documents'}\n",
    "def fetch_data(foo, foo):\n",
    "    pass\n",
    "    return None"
   ]
  },
  {
   "cell_type": "code",
   "execution_count": 109,
   "metadata": {},
   "outputs": [
    {
     "data": {
      "text/plain": [
       "[1, 2, 3, 4]"
      ]
     },
     "execution_count": 109,
     "metadata": {},
     "output_type": "execute_result"
    }
   ],
   "source": [
    "list(range(1, 5))"
   ]
  },
  {
   "cell_type": "code",
   "execution_count": null,
   "metadata": {},
   "outputs": [],
   "source": []
  }
 ],
 "metadata": {
  "kernelspec": {
   "display_name": "Python 3",
   "language": "python",
   "name": "python3"
  },
  "language_info": {
   "codemirror_mode": {
    "name": "ipython",
    "version": 3
   },
   "file_extension": ".py",
   "mimetype": "text/x-python",
   "name": "python",
   "nbconvert_exporter": "python",
   "pygments_lexer": "ipython3",
   "version": "3.6.8"
  }
 },
 "nbformat": 4,
 "nbformat_minor": 2
}
